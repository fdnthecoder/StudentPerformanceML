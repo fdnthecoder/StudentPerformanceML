{
 "cells": [
  {
   "cell_type": "markdown",
   "metadata": {},
   "source": [
    "# SVM"
   ]
  },
  {
   "cell_type": "markdown",
   "metadata": {},
   "source": [
    "## Prepocessing data"
   ]
  },
  {
   "cell_type": "code",
   "execution_count": 1,
   "metadata": {},
   "outputs": [],
   "source": [
    "# Importing the libraries to be used:\n",
    "import numpy as np\n",
    "import pandas as pd\n",
    "from sklearn import linear_model\n",
    "import numpy.polynomial.polynomial as poly\n",
    "import matplotlib.pyplot as plt\n",
    "%matplotlib inline \n",
    "\n",
    "from sklearn.preprocessing import StandardScaler  # It is important in neural networks to scale the date\n",
    "from sklearn.model_selection import train_test_split  # The standard - train/test to prevent overfitting and choose hyperparameters\n",
    "from sklearn.metrics import accuracy_score # \n",
    "from sklearn import svm\n",
    "import matplotlib.pyplot as plt "
   ]
  },
  {
   "cell_type": "code",
   "execution_count": 2,
   "metadata": {},
   "outputs": [],
   "source": [
    "df1 = pd.read_csv(\"data\\student-por.csv\",sep=\";\") #read file from different directory"
   ]
  },
  {
   "cell_type": "code",
   "execution_count": 3,
   "metadata": {},
   "outputs": [
    {
     "data": {
      "text/plain": [
       "0       7.7\n",
       "1      10.4\n",
       "2      12.3\n",
       "3      14.0\n",
       "4      12.4\n",
       "       ... \n",
       "644    10.3\n",
       "645    15.4\n",
       "646    10.5\n",
       "647    10.0\n",
       "648    10.7\n",
       "Length: 649, dtype: float64"
      ]
     },
     "execution_count": 3,
     "metadata": {},
     "output_type": "execute_result"
    }
   ],
   "source": [
    "#Splitting the data accordingly\n",
    "X = df1.iloc[:, :30]\n",
    "y = 0.3 * df1.iloc[:, 30] + 0.3 * df1.iloc[:, 31] + 0.4 * df1.iloc[:, 32]\n",
    "X.dropna()\n",
    "y.dropna()"
   ]
  },
  {
   "cell_type": "code",
   "execution_count": 4,
   "metadata": {},
   "outputs": [],
   "source": [
    "def fixingfile(X):\n",
    "    switch = {0: (\"GP\", \"MS\"), 1: (\"F\", \"M\"), 3: (\"U\", \"R\"), 4: (\"LE3\", \"GT3\"), 5:(\"T\", \"A\"), 15:(\"yes\",\"no\"), 16:(\"yes\",\"no\"),\n",
    "             17:(\"yes\",\"no\"), 18:(\"yes\",\"no\"), 19:(\"yes\",\"no\"), 20:(\"yes\",\"no\"), 21:(\"yes\",\"no\"), 22:(\"yes\",\"no\")}\n",
    "    for column in range(len(X.columns)):\n",
    "        if column not in switch:\n",
    "            continue\n",
    "        for i in range(len(X.iloc[:,column])):\n",
    "           #print(X.iloc[i, column] == \"U\",X.iloc[i, column], switch[column])\n",
    "            if X.iloc[i,column] == switch[column][0]:\n",
    "                #print(X.iloc[i, column], switch[column][0])\n",
    "                X.iloc[i,column] = 1\n",
    "            elif X.iloc[i, column] == switch[column][1]:\n",
    "                X.iloc[i,column] = 0\n",
    "    X.drop([\"Mjob\", \"Fjob\", \"reason\", \"guardian\"], axis = 1, inplace=True) #Remove the ones with more than 1 and 0 answers\n",
    "    print(X.shape) #Checking the shape of the features\n",
    "    \n",
    "    return X"
   ]
  },
  {
   "cell_type": "code",
   "execution_count": 5,
   "metadata": {},
   "outputs": [
    {
     "name": "stdout",
     "output_type": "stream",
     "text": [
      "(649, 26)\n"
     ]
    }
   ],
   "source": [
    "X_fixed = fixingfile(X)\n",
    "#X_fixed.to_csv(\"portfix.csv\") \n",
    "y = np.array(y) #changed to array to be easier to work with\n",
    "X = np.array(X_fixed)\n"
   ]
  },
  {
   "cell_type": "code",
   "execution_count": 6,
   "metadata": {},
   "outputs": [],
   "source": [
    "y = y>=10"
   ]
  },
  {
   "cell_type": "code",
   "execution_count": 7,
   "metadata": {},
   "outputs": [],
   "source": [
    "X_scale = StandardScaler()\n",
    "X = np.array(X_scale.fit_transform(X))"
   ]
  },
  {
   "cell_type": "code",
   "execution_count": 8,
   "metadata": {},
   "outputs": [],
   "source": [
    "#Split the data into training and test set.  60% training and %40 test\n",
    "X_train, X_test, y_train, y_test = train_test_split(X, y, test_size=0.4)\n",
    "y_train = y_train.flatten() #Make the array 1d\n",
    "y_test = y_test.flatten()"
   ]
  },
  {
   "cell_type": "markdown",
   "metadata": {},
   "source": [
    "## All the code of Linear, RBF, and Polynomial were taken from hw5"
   ]
  },
  {
   "cell_type": "markdown",
   "metadata": {},
   "source": [
    "## Linear kernel"
   ]
  },
  {
   "cell_type": "code",
   "execution_count": 9,
   "metadata": {},
   "outputs": [],
   "source": [
    "acc_train_svm_linear = []"
   ]
  },
  {
   "cell_type": "code",
   "execution_count": 10,
   "metadata": {},
   "outputs": [],
   "source": [
    "acc_test_svm_linear = []"
   ]
  },
  {
   "cell_type": "code",
   "execution_count": 11,
   "metadata": {},
   "outputs": [],
   "source": [
    "c_svm_linear = []"
   ]
  },
  {
   "cell_type": "code",
   "execution_count": 12,
   "metadata": {},
   "outputs": [],
   "source": [
    "def svm_linear(c):\n",
    "    svc_linear = svm.SVC(probability = False, kernel = 'linear', C = c)\n",
    "    \n",
    "    svc_linear.fit(X_train, y_train)\n",
    "    \n",
    "    Yhat_svc_linear_train = svc_linear.predict(X_train)\n",
    "    acc_train = np.mean(Yhat_svc_linear_train == y_train)\n",
    "    \n",
    "    # Adding testing accuracy to acc_train_svm\n",
    "    acc_train_svm_linear.append(acc_train)\n",
    "    print('Train Accuracy = {0:f}'.format(acc_train))\n",
    "    \n",
    "    #Find the prediction and accuracy on the test set\n",
    "    Yhat_svc_linear_test = svc_linear.predict(X_test)\n",
    "    acc_test = np.mean(Yhat_svc_linear_test == y_test)\n",
    "    \n",
    "    # Adding testing accuracy to acc_test_svm\n",
    "    acc_test_svm_linear.append(acc_test)\n",
    "    print('Test Accuracy = {0:f}'.format(acc_test))\n",
    "    \n",
    "    # Appending value of c for graphing purposes\n",
    "    c_svm_linear.append(c)"
   ]
  },
  {
   "cell_type": "code",
   "execution_count": 13,
   "metadata": {},
   "outputs": [
    {
     "name": "stdout",
     "output_type": "stream",
     "text": [
      "Train Accuracy = 0.753213\n",
      "Test Accuracy = 0.765385\n",
      "Train Accuracy = 0.753213\n",
      "Test Accuracy = 0.765385\n",
      "Train Accuracy = 0.807198\n",
      "Test Accuracy = 0.815385\n",
      "Train Accuracy = 0.838046\n",
      "Test Accuracy = 0.838462\n",
      "Train Accuracy = 0.848329\n",
      "Test Accuracy = 0.823077\n",
      "Train Accuracy = 0.848329\n",
      "Test Accuracy = 0.823077\n",
      "Train Accuracy = 0.848329\n",
      "Test Accuracy = 0.823077\n"
     ]
    }
   ],
   "source": [
    "# Call the above function i.e. svm_linear with different values of parameter 'c'.\n",
    "# Start with smaller values of 'c' say 0.0001, 0.001, 0.01, 0.1, 1, 10, 100\n",
    "cVals = [0.0001, 0.001, 0.01, 0.1, 1, 10, 100]\n",
    "for c in cVals:\n",
    "    svm_linear(c)"
   ]
  },
  {
   "cell_type": "code",
   "execution_count": 14,
   "metadata": {},
   "outputs": [
    {
     "data": {
      "text/plain": [
       "<matplotlib.legend.Legend at 0x25e700b25e0>"
      ]
     },
     "execution_count": 14,
     "metadata": {},
     "output_type": "execute_result"
    },
    {
     "data": {
      "image/png": "[encoded data removed]",
      "text/plain": [
       "<Figure size 432x288 with 1 Axes>"
      ]
     },
     "metadata": {
      "needs_background": "light"
     },
     "output_type": "display_data"
    }
   ],
   "source": [
    "plt.grid()\n",
    "plt.plot(c_svm_linear, acc_train_svm_linear)\n",
    "plt.plot(c_svm_linear, acc_test_svm_linear)\n",
    "plt.xlabel(\"C - values\")\n",
    "plt.ylabel(\"Accuracy\")\n",
    "plt.title(\"SVM Linear: Accuracy versus C values\")\n",
    "\n",
    "# Use the following function to have a legend\n",
    "plt.legend(['Training Accuracy', 'Test Accuracy'], loc='upper right')"
   ]
  },
  {
   "cell_type": "markdown",
   "metadata": {},
   "source": [
    "## Radial Basis Function(RBF) Kernel"
   ]
  },
  {
   "cell_type": "code",
   "execution_count": 15,
   "metadata": {},
   "outputs": [],
   "source": [
    "acc_train_svm_rbf = []"
   ]
  },
  {
   "cell_type": "code",
   "execution_count": 16,
   "metadata": {},
   "outputs": [],
   "source": [
    "acc_test_svm_rbf = []"
   ]
  },
  {
   "cell_type": "code",
   "execution_count": 17,
   "metadata": {},
   "outputs": [],
   "source": [
    "c_svm_rbf = []"
   ]
  },
  {
   "cell_type": "code",
   "execution_count": 18,
   "metadata": {},
   "outputs": [],
   "source": [
    "def svm_rbf(c):\n",
    "    # Create an object of svm.SVC(probability = False, kernel = 'rbf', C = c) \n",
    "    svc_rbf = svm.SVC(probability = False, kernel = 'rbf', C = c) \n",
    "    \n",
    "    # Fit the classifier on the training set \n",
    "    svc_rbf.fit(X_train, y_train)\n",
    "    \n",
    "    # Find the prediction and accuracy on the training set \n",
    "    Yhat_svc_rbf_train = svc_rbf.predict(X_train)\n",
    "    acc_train = np.mean(Yhat_svc_rbf_train == y_train)\n",
    "    \n",
    "    # Adding testing accuracy to acc_train_svm\n",
    "    acc_train_svm_rbf.append(acc_train)\n",
    "    print('Train Accuracy = {0:f}'.format(acc_train))\n",
    "    \n",
    "    # Find the prediction and accuracy on the test set \n",
    "    Yhat_svc_rbf_test = svc_rbf.predict(X_test)\n",
    "    acc_test = np.mean(Yhat_svc_rbf_test == y_test)\n",
    "    \n",
    "    # Adding testing accuracy to acc_test_svm\n",
    "    acc_test_svm_rbf.append(acc_test)\n",
    "    print('Test Accuracy = {0:f}'.format(acc_test))\n",
    "    \n",
    "    # Appending value of c for graphing purposes\n",
    "    c_svm_rbf.append(c)"
   ]
  },
  {
   "cell_type": "code",
   "execution_count": 19,
   "metadata": {},
   "outputs": [
    {
     "name": "stdout",
     "output_type": "stream",
     "text": [
      "Train Accuracy = 0.753213\n",
      "Test Accuracy = 0.765385\n",
      "Train Accuracy = 0.753213\n",
      "Test Accuracy = 0.765385\n",
      "Train Accuracy = 0.753213\n",
      "Test Accuracy = 0.765385\n",
      "Train Accuracy = 0.753213\n",
      "Test Accuracy = 0.765385\n",
      "Train Accuracy = 0.928021\n",
      "Test Accuracy = 0.826923\n",
      "Train Accuracy = 1.000000\n",
      "Test Accuracy = 0.788462\n",
      "Train Accuracy = 1.000000\n",
      "Test Accuracy = 0.792308\n"
     ]
    }
   ],
   "source": [
    "for c in cVals:\n",
    "    svm_rbf(c)"
   ]
  },
  {
   "cell_type": "code",
   "execution_count": 20,
   "metadata": {},
   "outputs": [
    {
     "data": {
      "text/plain": [
       "<matplotlib.legend.Legend at 0x25e7034b490>"
      ]
     },
     "execution_count": 20,
     "metadata": {},
     "output_type": "execute_result"
    },
    {
     "data": {
      "image/png": "[encoded data removed]",
      "text/plain": [
       "<Figure size 432x288 with 1 Axes>"
      ]
     },
     "metadata": {
      "needs_background": "light"
     },
     "output_type": "display_data"
    }
   ],
   "source": [
    "# Plot training accuracy(Y-axis) v/s 'c' on X - Axis.\n",
    "# Plot test accuracy(Y-Axis) v/s 'c' on X - Axis.\n",
    "plt.grid()\n",
    "plt.plot(c_svm_rbf, acc_train_svm_rbf)\n",
    "plt.plot(c_svm_rbf, acc_test_svm_rbf)\n",
    "plt.xlabel(\"C - values\")\n",
    "plt.ylabel(\"Accuracy\")\n",
    "plt.title(\"SVM RBF: Accuracy versus C values\")\n",
    "# Use the following function to have a legend\n",
    "plt.legend(['Training Accuracy', 'Test Accuracy'], loc='lower right')"
   ]
  },
  {
   "cell_type": "markdown",
   "metadata": {},
   "source": [
    "## Polynomial"
   ]
  },
  {
   "cell_type": "code",
   "execution_count": 21,
   "metadata": {},
   "outputs": [],
   "source": [
    "acc_train_svm_poly = []"
   ]
  },
  {
   "cell_type": "code",
   "execution_count": 22,
   "metadata": {},
   "outputs": [],
   "source": [
    "acc_test_svm_poly = []"
   ]
  },
  {
   "cell_type": "code",
   "execution_count": 23,
   "metadata": {},
   "outputs": [],
   "source": [
    "c_svm_poly = []"
   ]
  },
  {
   "cell_type": "code",
   "execution_count": 24,
   "metadata": {},
   "outputs": [],
   "source": [
    "def svm_polynomial(c):\n",
    "    # Create an object of svm.SVC(probability = False, kernel = 'poly', C = c) - 5 points\n",
    "    svc_polynomial = svm.SVC(probability = False, kernel = 'poly', C = c)\n",
    "    \n",
    "    A = X_train[0:300,:]  # First 300 rows of training set.\n",
    "    B = y_train[0:300]  \n",
    "    C = X_test[0:100,:]   # First 100 rows of test set.\n",
    "    D = y_test[0:100]\n",
    "    \n",
    "    # Fit the classifier on the training set - 5 points\n",
    "    # Use A and B to train and C and D to test.\n",
    "    svc_polynomial.fit(A, B)\n",
    "    \n",
    "    # Find the prediction and accuracy on the training set - 5 points\n",
    "    Yhat_svc_poly_train = svc_polynomial.predict(A)\n",
    "    acc_train = np.mean(Yhat_svc_poly_train == B)\n",
    "    \n",
    "    # Adding testing accuracy to acc_train_svm\n",
    "    acc_train_svm_poly.append(acc_train)\n",
    "    print('Train Accuracy = {0:f}'.format(acc_train))\n",
    "    \n",
    "    # Find the prediction and accuracy on the test set - 5 points\n",
    "    Yhat_svc_poly_test = svc_polynomial.predict(C)\n",
    "    acc_test = np.mean(Yhat_svc_poly_test == D)\n",
    "    \n",
    "    # Adding testing accuracy to acc_test_svm\n",
    "    acc_test_svm_poly.append(acc_test)\n",
    "    print('Test Accuracy = {0:f}'.format(acc_test))\n",
    "    \n",
    "    # Appending value of c for graphing purposes\n",
    "    c_svm_poly.append(c)"
   ]
  },
  {
   "cell_type": "code",
   "execution_count": 25,
   "metadata": {},
   "outputs": [
    {
     "name": "stdout",
     "output_type": "stream",
     "text": [
      "Train Accuracy = 0.746667\n",
      "Test Accuracy = 0.770000\n",
      "Train Accuracy = 0.746667\n",
      "Test Accuracy = 0.770000\n",
      "Train Accuracy = 0.746667\n",
      "Test Accuracy = 0.770000\n",
      "Train Accuracy = 0.746667\n",
      "Test Accuracy = 0.770000\n",
      "Train Accuracy = 0.746667\n",
      "Test Accuracy = 0.770000\n"
     ]
    }
   ],
   "source": [
    "cVals = np.geomspace(0.000001, 0.001, 5, 10)\n",
    "for c in cVals:\n",
    "    svm_polynomial(c)"
   ]
  },
  {
   "cell_type": "code",
   "execution_count": 26,
   "metadata": {},
   "outputs": [
    {
     "data": {
      "text/plain": [
       "<matplotlib.legend.Legend at 0x25e703e36d0>"
      ]
     },
     "execution_count": 26,
     "metadata": {},
     "output_type": "execute_result"
    },
    {
     "data": {
      "image/png": "[encoded data removed]",
      "text/plain": [
       "<Figure size 432x288 with 1 Axes>"
      ]
     },
     "metadata": {
      "needs_background": "light"
     },
     "output_type": "display_data"
    }
   ],
   "source": [
    "# Plot training accuracy(Y-axis) v/s 'c' on X - Axis.\n",
    "# Plot test accuracy(Y-Axis) v/s 'c' on X - Axis.\n",
    "plt.grid()\n",
    "plt.plot(c_svm_poly, acc_train_svm_poly)\n",
    "plt.plot(c_svm_poly, acc_test_svm_poly)\n",
    "plt.xlabel(\"C - values\")\n",
    "plt.ylabel(\"Accuracy\")\n",
    "plt.title(\"SVM Poly: Accuracy versus C values\")\n",
    "# Use the following function to have a legend\n",
    "plt.legend(['Training Accuracy', 'Test Accuracy'], loc='upper right')"
   ]
  },
  {
   "cell_type": "markdown",
   "metadata": {},
   "source": [
    "# Code beyond this point is to make the table of results for svm\n",
    "## Do not run the cell multiple times"
   ]
  },
  {
   "cell_type": "code",
   "execution_count": 27,
   "metadata": {},
   "outputs": [],
   "source": [
    "acc_train_lin = np.array(acc_train_svm_linear).reshape(len(acc_train_svm_linear), 1)\n",
    "acc_test_lin = np.array(acc_test_svm_linear).reshape(len(acc_test_svm_linear),1)\n",
    "all_accuracy = np.hstack((acc_train_lin, acc_test_lin))"
   ]
  },
  {
   "cell_type": "code",
   "execution_count": 28,
   "metadata": {},
   "outputs": [
    {
     "name": "stdout",
     "output_type": "stream",
     "text": [
      "[[0.75321337 0.76538462 0.75321337 0.76538462]\n",
      " [0.75321337 0.76538462 0.75321337 0.76538462]\n",
      " [0.80719794 0.81538462 0.75321337 0.76538462]\n",
      " [0.83804627 0.83846154 0.75321337 0.76538462]\n",
      " [0.84832905 0.82307692 0.92802057 0.82692308]\n",
      " [0.84832905 0.82307692 1.         0.78846154]\n",
      " [0.84832905 0.82307692 1.         0.79230769]]\n"
     ]
    }
   ],
   "source": [
    "acc_train_rbf = np.array(acc_train_svm_rbf).reshape(len(acc_train_svm_rbf),1)\n",
    "acc_test_rbf = np.array(acc_test_svm_rbf).reshape(len(acc_test_svm_rbf),1)\n",
    "acc_rbf = np.hstack((acc_train_rbf, acc_test_rbf))\n",
    "all_accuracy = np.hstack((all_accuracy, acc_rbf))\n",
    "print(all_accuracy)"
   ]
  },
  {
   "cell_type": "code",
   "execution_count": 29,
   "metadata": {},
   "outputs": [
    {
     "name": "stdout",
     "output_type": "stream",
     "text": [
      "[[0.75321337 0.76538462 0.75321337 0.76538462 0.74666667 0.77      ]\n",
      " [0.75321337 0.76538462 0.75321337 0.76538462 0.74666667 0.77      ]\n",
      " [0.80719794 0.81538462 0.75321337 0.76538462 0.74666667 0.77      ]\n",
      " [0.83804627 0.83846154 0.75321337 0.76538462 0.74666667 0.77      ]\n",
      " [0.84832905 0.82307692 0.92802057 0.82692308 0.74666667 0.77      ]\n",
      " [0.84832905 0.82307692 1.         0.78846154 0.         0.        ]\n",
      " [0.84832905 0.82307692 1.         0.79230769 0.         0.        ]]\n"
     ]
    }
   ],
   "source": [
    "acc_train_poly = np.array(acc_train_svm_poly).reshape(len(acc_train_svm_poly),1)\n",
    "acc_test_poly = np.array(acc_test_svm_poly).reshape(len(acc_test_svm_poly),1)\n",
    "acc_poly = np.hstack((acc_train_poly, acc_test_poly))\n",
    "zeros = np.zeros((2,2))\n",
    "acc_poly = np.vstack((acc_poly, zeros))\n",
    "all_accuracy = np.hstack((all_accuracy, acc_poly))\n",
    "print(all_accuracy)"
   ]
  },
  {
   "cell_type": "code",
   "execution_count": 30,
   "metadata": {},
   "outputs": [
    {
     "name": "stdout",
     "output_type": "stream",
     "text": [
      "   acc_train_lin  acc_test_lin  acc_train_rbf  acc_test_rbf  acc_train_poly  \\\n",
      "0       0.753213      0.765385       0.753213      0.765385        0.746667   \n",
      "1       0.753213      0.765385       0.753213      0.765385        0.746667   \n",
      "2       0.807198      0.815385       0.753213      0.765385        0.746667   \n",
      "3       0.838046      0.838462       0.753213      0.765385        0.746667   \n",
      "4       0.848329      0.823077       0.928021      0.826923        0.746667   \n",
      "5       0.848329      0.823077       1.000000      0.788462        0.000000   \n",
      "6       0.848329      0.823077       1.000000      0.792308        0.000000   \n",
      "\n",
      "   acc_test_poly  \n",
      "0           0.77  \n",
      "1           0.77  \n",
      "2           0.77  \n",
      "3           0.77  \n",
      "4           0.77  \n",
      "5           0.00  \n",
      "6           0.00  \n"
     ]
    }
   ],
   "source": [
    "column = np.array(['acc_train_lin', 'acc_test_lin', 'acc_train_rbf', 'acc_test_rbf', 'acc_train_poly', 'acc_test_poly'])\n",
    "acc_table = pd.DataFrame(all_accuracy, columns = ['acc_train_lin', 'acc_test_lin', 'acc_train_rbf', 'acc_test_rbf', 'acc_train_poly', 'acc_test_poly'] )\n",
    "print(acc_table)"
   ]
  },
  {
   "cell_type": "code",
   "execution_count": 31,
   "metadata": {},
   "outputs": [],
   "source": [
    "#This cell only ran once to export a csv file\n",
    "#acc_table.to_csv(\"svmtable.csv\") "
   ]
  },
  {
   "cell_type": "code",
   "execution_count": null,
   "metadata": {},
   "outputs": [],
   "source": []
  }
 ],
 "metadata": {
  "kernelspec": {
   "display_name": "Python 3",
   "language": "python",
   "name": "python3"
  },
  "language_info": {
   "codemirror_mode": {
    "name": "ipython",
    "version": 3
   },
   "file_extension": ".py",
   "mimetype": "text/x-python",
   "name": "python",
   "nbconvert_exporter": "python",
   "pygments_lexer": "ipython3",
   "version": "3.8.5"
  }
 },
 "nbformat": 4,
 "nbformat_minor": 4
}
