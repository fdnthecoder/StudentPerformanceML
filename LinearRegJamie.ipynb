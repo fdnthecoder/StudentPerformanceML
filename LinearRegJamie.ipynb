{
 "cells": [
  {
   "cell_type": "markdown",
   "metadata": {},
   "source": [
    "# STUDENT PERFORMANCES\n",
    "## Machine Learning project\n",
    "## Team: Amadou and Jamie\n",
    "\n",
    "* Analysis of student performances\n",
    "* Features: 33 \n",
    "* Data: 649\n",
    "\n",
    "There are 2 different csv files in the data folder. One (student-port.csv) being the data set of the students that took the portugese language course and another (student-mat.csv) of the students that are taking the math course. There are 382 students that are taking both courses. \n",
    "\n",
    "More information about the dataset is in the data folder, labeled student.txt"
   ]
  },
  {
   "cell_type": "code",
   "execution_count": 1,
   "metadata": {},
   "outputs": [],
   "source": [
    "# Importing the libraries to be used:\n",
    "import numpy as np\n",
    "import pandas as pd\n",
    "from sklearn import linear_model\n",
    "from sklearn import preprocessing\n",
    "import matplotlib.pyplot as plt\n",
    "%matplotlib inline \n",
    "\n",
    "from sklearn.preprocessing import StandardScaler  # It is important in neural networks to scale the date\n",
    "from sklearn.model_selection import train_test_split  # The standard - train/test to prevent overfitting and choose hyperparameters\n",
    "from sklearn.metrics import accuracy_score # \n",
    "import matplotlib.pyplot as plt "
   ]
  },
  {
   "cell_type": "code",
   "execution_count": 2,
   "metadata": {},
   "outputs": [
    {
     "name": "stdout",
     "output_type": "stream",
     "text": [
      "    school sex  age address famsize Pstatus  Medu  Fedu      Mjob      Fjob  \\\n",
      "0       GP   F   18       U     GT3       A     4     4   at_home   teacher   \n",
      "1       GP   F   17       U     GT3       T     1     1   at_home     other   \n",
      "2       GP   F   15       U     LE3       T     1     1   at_home     other   \n",
      "3       GP   F   15       U     GT3       T     4     2    health  services   \n",
      "4       GP   F   16       U     GT3       T     3     3     other     other   \n",
      "..     ...  ..  ...     ...     ...     ...   ...   ...       ...       ...   \n",
      "644     MS   F   19       R     GT3       T     2     3  services     other   \n",
      "645     MS   F   18       U     LE3       T     3     1   teacher  services   \n",
      "646     MS   F   18       U     GT3       T     1     1     other     other   \n",
      "647     MS   M   17       U     LE3       T     3     1  services  services   \n",
      "648     MS   M   18       R     LE3       T     3     2  services     other   \n",
      "\n",
      "     ... famrel freetime  goout  Dalc  Walc health absences  G1  G2  G3  \n",
      "0    ...      4        3      4     1     1      3        4   0  11  11  \n",
      "1    ...      5        3      3     1     1      3        2   9  11  11  \n",
      "2    ...      4        3      2     2     3      3        6  12  13  12  \n",
      "3    ...      3        2      2     1     1      5        0  14  14  14  \n",
      "4    ...      4        3      2     1     2      5        0  11  13  13  \n",
      "..   ...    ...      ...    ...   ...   ...    ...      ...  ..  ..  ..  \n",
      "644  ...      5        4      2     1     2      5        4  10  11  10  \n",
      "645  ...      4        3      4     1     1      1        4  15  15  16  \n",
      "646  ...      1        1      1     1     1      5        6  11  12   9  \n",
      "647  ...      2        4      5     3     4      2        6  10  10  10  \n",
      "648  ...      4        4      1     3     4      5        4  10  11  11  \n",
      "\n",
      "[649 rows x 33 columns]\n"
     ]
    }
   ],
   "source": [
    "df1 = pd.read_csv(\"data\\student-por.csv\",sep=\";\") #read file from different directory\n",
    "df2 = pd.read_csv(\"data\\student-mat.csv\", sep = \";\")\n",
    "print(df1)\n",
    "#df1.to_csv(\"port.csv\") # made in to a csv after being made in to a table - easier to read compared to original excel file\n"
   ]
  },
  {
   "cell_type": "code",
   "execution_count": 3,
   "metadata": {},
   "outputs": [
    {
     "data": {
      "text/html": [
       "<div>\n",
       "<style scoped>\n",
       "    .dataframe tbody tr th:only-of-type {\n",
       "        vertical-align: middle;\n",
       "    }\n",
       "\n",
       "    .dataframe tbody tr th {\n",
       "        vertical-align: top;\n",
       "    }\n",
       "\n",
       "    .dataframe thead th {\n",
       "        text-align: right;\n",
       "    }\n",
       "</style>\n",
       "<table border=\"1\" class=\"dataframe\">\n",
       "  <thead>\n",
       "    <tr style=\"text-align: right;\">\n",
       "      <th></th>\n",
       "      <th>G3</th>\n",
       "    </tr>\n",
       "  </thead>\n",
       "  <tbody>\n",
       "    <tr>\n",
       "      <th>0</th>\n",
       "      <td>11</td>\n",
       "    </tr>\n",
       "    <tr>\n",
       "      <th>1</th>\n",
       "      <td>11</td>\n",
       "    </tr>\n",
       "    <tr>\n",
       "      <th>2</th>\n",
       "      <td>12</td>\n",
       "    </tr>\n",
       "    <tr>\n",
       "      <th>3</th>\n",
       "      <td>14</td>\n",
       "    </tr>\n",
       "    <tr>\n",
       "      <th>4</th>\n",
       "      <td>13</td>\n",
       "    </tr>\n",
       "    <tr>\n",
       "      <th>...</th>\n",
       "      <td>...</td>\n",
       "    </tr>\n",
       "    <tr>\n",
       "      <th>644</th>\n",
       "      <td>10</td>\n",
       "    </tr>\n",
       "    <tr>\n",
       "      <th>645</th>\n",
       "      <td>16</td>\n",
       "    </tr>\n",
       "    <tr>\n",
       "      <th>646</th>\n",
       "      <td>9</td>\n",
       "    </tr>\n",
       "    <tr>\n",
       "      <th>647</th>\n",
       "      <td>10</td>\n",
       "    </tr>\n",
       "    <tr>\n",
       "      <th>648</th>\n",
       "      <td>11</td>\n",
       "    </tr>\n",
       "  </tbody>\n",
       "</table>\n",
       "<p>649 rows × 1 columns</p>\n",
       "</div>"
      ],
      "text/plain": [
       "     G3\n",
       "0    11\n",
       "1    11\n",
       "2    12\n",
       "3    14\n",
       "4    13\n",
       "..   ..\n",
       "644  10\n",
       "645  16\n",
       "646   9\n",
       "647  10\n",
       "648  11\n",
       "\n",
       "[649 rows x 1 columns]"
      ]
     },
     "execution_count": 3,
     "metadata": {},
     "output_type": "execute_result"
    }
   ],
   "source": [
    "#Splitting the data accordingly\n",
    "X = df1.iloc[:, :30]\n",
    "y = df1.iloc[:, 32:]\n",
    "X.dropna()\n",
    "y.dropna()"
   ]
  },
  {
   "cell_type": "code",
   "execution_count": 4,
   "metadata": {},
   "outputs": [],
   "source": [
    "def fixingfile(X):\n",
    "    switch = {0: (\"GP\", \"MS\"), 1: (\"F\", \"M\"), 3: (\"U\", \"R\"), 4: (\"LE3\", \"GT3\"), 5:(\"T\", \"A\"), 15:(\"yes\",\"no\"), 16:(\"yes\",\"no\"),\n",
    "             17:(\"yes\",\"no\"), 18:(\"yes\",\"no\"), 19:(\"yes\",\"no\"), 20:(\"yes\",\"no\"), 21:(\"yes\",\"no\"), 22:(\"yes\",\"no\")}\n",
    "    #ignore = [\"age\", \"Medu\", \"Fedu\",\"Mjob\", \"Fjob\", 'reason', 'guardian','traveltime', 'studytime',\n",
    "    #       'failures']\n",
    "    #print(X.columns)\n",
    "    #print(X.iloc[0,:])\n",
    "    for column in range(len(X.columns)):\n",
    "        if column not in switch:\n",
    "            continue\n",
    "        for i in range(len(X.iloc[:,column])):\n",
    "           #print(X.iloc[i, column] == \"U\",X.iloc[i, column], switch[column])\n",
    "            if X.iloc[i,column] == switch[column][0]:\n",
    "                #print(X.iloc[i, column], switch[column][0])\n",
    "                X.iloc[i,column] = 1\n",
    "            elif X.iloc[i, column] == switch[column][1]:\n",
    "                X.iloc[i,column] = 0\n",
    "    X.drop([\"Mjob\", \"Fjob\", \"reason\", \"guardian\"], axis = 1, inplace=True) #Remove the ones with more than 1 and 0 answers\n",
    "    print(X.shape)\n",
    "    \n",
    "    return X"
   ]
  },
  {
   "cell_type": "code",
   "execution_count": 5,
   "metadata": {},
   "outputs": [
    {
     "name": "stdout",
     "output_type": "stream",
     "text": [
      "(649, 26)\n"
     ]
    }
   ],
   "source": [
    "X_fixed = fixingfile(X)\n",
    "#X_fixed.to_csv(\"portfix.csv\") \n",
    "y = np.array(y) #changed to array to be easier to work with\n",
    "X = np.array(X_fixed)\n"
   ]
  },
  {
   "cell_type": "code",
   "execution_count": 6,
   "metadata": {},
   "outputs": [],
   "source": [
    "X_scale = StandardScaler()\n",
    "X = np.array(X_scale.fit_transform(X))"
   ]
  },
  {
   "cell_type": "code",
   "execution_count": 7,
   "metadata": {},
   "outputs": [],
   "source": [
    "#Split the data into training and test set.  60% training and %40 test\n",
    "X_train, X_test, y_train, y_test = train_test_split(X, y, test_size=0.4)"
   ]
  },
  {
   "cell_type": "markdown",
   "metadata": {},
   "source": [
    "## Linear Regression"
   ]
  },
  {
   "cell_type": "markdown",
   "metadata": {},
   "source": [
    "## 1. Multiple Linear Regression"
   ]
  },
  {
   "cell_type": "code",
   "execution_count": 8,
   "metadata": {},
   "outputs": [
    {
     "name": "stdout",
     "output_type": "stream",
     "text": [
      "Checking y_2d_train is in 2d: (389, 1)\n",
      "Checking y_2d_test is in 2d: (260, 1)\n"
     ]
    }
   ],
   "source": [
    "#reshaping ys to 2d\n",
    "y_2d_train = y_train.reshape(y_train.shape[0], 1)\n",
    "y_2d_test = y_test.reshape(y_test.shape[0],1)\n",
    "print(\"Checking y_2d_train is in 2d:\", y_2d_train.shape)\n",
    "print(\"Checking y_2d_test is in 2d:\", y_2d_test.shape)"
   ]
  },
  {
   "cell_type": "code",
   "execution_count": 9,
   "metadata": {},
   "outputs": [
    {
     "name": "stdout",
     "output_type": "stream",
     "text": [
      "Number training of rows: 389\n",
      "Number testing of rows: 260\n"
     ]
    }
   ],
   "source": [
    "n_train = y_2d_train.shape[0]\n",
    "n_test = y_2d_test.shape[0]\n",
    "print(\"Number training of rows:\", n_train)\n",
    "print(\"Number testing of rows:\", n_test)"
   ]
  },
  {
   "cell_type": "code",
   "execution_count": 10,
   "metadata": {},
   "outputs": [
    {
     "name": "stdout",
     "output_type": "stream",
     "text": [
      "X_1 shape: (389, 27)\n",
      "X_1 with ones:  [[ 1.          0.73094388  0.83337685 ... -0.99769466  1.01290255\n",
      "  -0.78915946]\n",
      " [ 1.         -1.36809408  0.83337685 ... -0.99769466 -1.06301457\n",
      "  -0.57351125]\n",
      " [ 1.          0.73094388  0.83337685 ...  0.56067799  1.01290255\n",
      "   0.50472977]\n",
      " ...\n",
      " [ 1.         -1.36809408  0.83337685 ... -0.21850834  0.32093018\n",
      "  -0.78915946]\n",
      " [ 1.          0.73094388  0.83337685 ... -0.99769466  1.01290255\n",
      "   0.50472977]\n",
      " [ 1.          0.73094388 -1.19993734 ... -0.99769466 -1.06301457\n",
      "   0.07343336]]\n"
     ]
    }
   ],
   "source": [
    "# Adding the column of ones infront of x_train\n",
    "ones_train = np.ones((n_train, 1))\n",
    "X_1_train = np.hstack((ones_train, X_train))\n",
    "print(\"X_1 shape:\", X_1_train.shape)\n",
    "print(\"X_1 with ones: \", X_1_train)"
   ]
  },
  {
   "cell_type": "code",
   "execution_count": 11,
   "metadata": {},
   "outputs": [],
   "source": [
    "def compute_cost(X_1, y_2d, w, N):\n",
    "    # Write your code in place of ellipsis. Cost can be calculated using a single line of code.\n",
    "    # Remember w is a vector here.\n",
    "    \n",
    "    # TODO Q07 - Taken from hw\n",
    "    # Write the cost function\n",
    "    #ISSUES: X AND Y ARE NOW 2D ARRAYS\n",
    "    cost = sum((y_2d- (np.dot(X_1, w)))**2)/(2*N)\n",
    "    \n",
    "    return cost[0]"
   ]
  },
  {
   "cell_type": "code",
   "execution_count": 12,
   "metadata": {},
   "outputs": [],
   "source": [
    "def gradient_descent(X_1, y_2d, learning_rate, w, N, num_iters):\n",
    "    # In place of ellipsis, write the updated value of w0 in temp0 and of w1 in temp1\n",
    "    # TODO Q08\n",
    "    # Finish the gradient descent function\n",
    "    \n",
    "    for i in range(num_iters):\n",
    "        # derivative vector is given by : X_train.Transpose *  (( X_train * w)- y ) \n",
    "        slope = np.dot(X_1, w)\n",
    "        der_vector = np.dot(X_1.T,(slope - y_2d))\n",
    "        w = w - (learning_rate * (1/N)) * der_vector\n",
    "       \n",
    "        \n",
    "        if(i % 100 == 0):\n",
    "            # In place of ellipsis, call the cost you just coded above\n",
    "            cost = compute_cost(X_1, y_2d, w, N)\n",
    "            # You can uncomment print statements below to see how cost changes, \n",
    "            # but please make sure you put prints in comments before submission\n",
    "            #print(\"Cost\")\n",
    "            #print(cost)\n",
    "             \n",
    "    return w "
   ]
  },
  {
   "cell_type": "code",
   "execution_count": 13,
   "metadata": {},
   "outputs": [
    {
     "name": "stdout",
     "output_type": "stream",
     "text": [
      "g[0]:  11.906789968279758\n"
     ]
    }
   ],
   "source": [
    "w_testcase = np.zeros((X_1_train.shape[1],1))\n",
    "g = gradient_descent(X_1_train, y_2d_train, 0.0049, w_testcase, n_train, 1000)\n",
    "#print(g)\n",
    "print(\"g[0]: \", g[0][0])"
   ]
  },
  {
   "cell_type": "code",
   "execution_count": 14,
   "metadata": {},
   "outputs": [],
   "source": [
    "def multiple_linear_reg_model_gda(X_1, y_2d, learning_rate, N, num_iters):\n",
    "    #initialize the values of parameter vector w. It should be a column vector of zeros of dimension(d+1,1)\n",
    "    # TODO 09 \n",
    "    # Complete the function\n",
    "    w = np.zeros((X_1.shape[1],1))\n",
    "    \n",
    "    # Calculate the initial cost by calling the function you coded above.\n",
    "    initial_cost = compute_cost(X_1, y_2d, w, N)\n",
    "    \n",
    "    # Calculate the optimized value of gradients by calling the gradient_descent function coded above\n",
    "    w = gradient_descent(X_1, y_2d, learning_rate, w, N, num_iters)\n",
    "    \n",
    "    # Calculate the cost with the optimized value of w0 and w1 by calling the cost function.\n",
    "    final_cost = compute_cost(X_1, y_2d, w, N)\n",
    "\n",
    "    return w, initial_cost, final_cost"
   ]
  },
  {
   "cell_type": "code",
   "execution_count": 15,
   "metadata": {},
   "outputs": [
    {
     "name": "stdout",
     "output_type": "stream",
     "text": [
      "**************************************************\n",
      "10\n",
      "Iter is: 10 Alpha is: 0.01\n",
      "\n",
      "initial cost:  76.7879177377892 \n",
      "final cost:  62.970395877041675\n",
      "RSS: 48990.967992338425 TSS: 3748.997429305912\n",
      "-12.067751823294419\n",
      "--------------------------------------------------\n",
      "Iter is: 10 Alpha is: 0.05\n",
      "\n",
      "initial cost:  76.7879177377892 \n",
      "final cost:  29.098204331602762\n",
      "RSS: 22638.40296998695 TSS: 3748.997429305912\n",
      "-5.038521870680027\n",
      "--------------------------------------------------\n",
      "Iter is: 10 Alpha is: 0.001\n",
      "\n",
      "initial cost:  76.7879177377892 \n",
      "final cost:  75.27264244655025\n",
      "RSS: 58562.11582341609 TSS: 3748.997429305912\n",
      "-14.620740458671975\n",
      "--------------------------------------------------\n",
      "Iter is: 10 Alpha is: 0.0049\n",
      "\n",
      "initial cost:  76.7879177377892 \n",
      "final cost:  69.65715765286984\n",
      "RSS: 54193.26865393274 TSS: 3748.997429305912\n",
      "-13.455402991291477\n",
      "--------------------------------------------------\n",
      "Iter is: 10 Alpha is: 0.005\n",
      "\n",
      "initial cost:  76.7879177377892 \n",
      "final cost:  69.51910279121806\n",
      "RSS: 54085.86197156765 TSS: 3748.997429305912\n",
      "-13.426753549836677\n",
      "--------------------------------------------------\n",
      "Iter is: 10 Alpha is: 0.0001\n",
      "\n",
      "initial cost:  76.7879177377892 \n",
      "final cost:  76.63495531886986\n",
      "RSS: 59621.99523808075 TSS: 3748.997429305912\n",
      "-14.903450552410526\n",
      "--------------------------------------------------\n",
      "Iter is: 10 Alpha is: 0.0005\n",
      "\n",
      "initial cost:  76.7879177377892 \n",
      "final cost:  76.0263061524802\n",
      "RSS: 59148.4661866296 TSS: 3748.997429305912\n",
      "-14.777142369921636\n",
      "--------------------------------------------------\n",
      "Iter is: 10 Alpha is: 0.0001\n",
      "\n",
      "initial cost:  76.7879177377892 \n",
      "final cost:  76.63495531886986\n",
      "RSS: 59621.99523808075 TSS: 3748.997429305912\n",
      "-14.903450552410526\n",
      "--------------------------------------------------\n",
      "**************************************************\n",
      "**************************************************\n",
      "100\n",
      "Iter is: 100 Alpha is: 0.01\n",
      "\n",
      "initial cost:  76.7879177377892 \n",
      "final cost:  12.922811299773315\n",
      "RSS: 10053.94719122364 TSS: 3748.997429305912\n",
      "-1.6817695612784198\n",
      "--------------------------------------------------\n",
      "Iter is: 100 Alpha is: 0.05\n",
      "\n",
      "initial cost:  76.7879177377892 \n",
      "final cost:  3.0859070680742646\n",
      "RSS: 2400.835698961777 TSS: 3748.997429305912\n",
      "0.35960593619124814\n",
      "--------------------------------------------------\n",
      "Iter is: 100 Alpha is: 0.001\n",
      "\n",
      "initial cost:  76.7879177377892 \n",
      "final cost:  63.03060621270813\n",
      "RSS: 49037.81163348693 TSS: 3748.997429305912\n",
      "-12.080246801493743\n",
      "--------------------------------------------------\n",
      "Iter is: 100 Alpha is: 0.0049\n",
      "\n",
      "initial cost:  76.7879177377892 \n",
      "final cost:  30.26568924070193\n",
      "RSS: 23546.706229266107 TSS: 3748.997429305912\n",
      "-5.280800846968181\n",
      "--------------------------------------------------\n",
      "Iter is: 100 Alpha is: 0.005\n",
      "\n",
      "initial cost:  76.7879177377892 \n",
      "final cost:  29.725491665005435\n",
      "RSS: 23126.432515374232 TSS: 3748.997429305912\n",
      "-5.1686978856253445\n",
      "--------------------------------------------------\n",
      "Iter is: 100 Alpha is: 0.0001\n",
      "\n",
      "initial cost:  76.7879177377892 \n",
      "final cost:  75.27338587856582\n",
      "RSS: 58562.694213524206 TSS: 3748.997429305912\n",
      "-14.620894737280862\n",
      "--------------------------------------------------\n",
      "Iter is: 100 Alpha is: 0.0005\n",
      "\n",
      "initial cost:  76.7879177377892 \n",
      "final cost:  69.53601078102992\n",
      "RSS: 54099.01638764128 TSS: 3748.997429305912\n",
      "-13.430262332203611\n",
      "--------------------------------------------------\n",
      "Iter is: 100 Alpha is: 0.0001\n",
      "\n",
      "initial cost:  76.7879177377892 \n",
      "final cost:  75.27338587856582\n",
      "RSS: 58562.694213524206 TSS: 3748.997429305912\n",
      "-14.620894737280862\n",
      "--------------------------------------------------\n",
      "**************************************************\n",
      "**************************************************\n",
      "1000\n",
      "Iter is: 1000 Alpha is: 0.01\n",
      "\n",
      "initial cost:  76.7879177377892 \n",
      "final cost:  3.079620711236204\n",
      "RSS: 2395.9449133417666 TSS: 3748.997429305912\n",
      "0.3609104944664231\n",
      "--------------------------------------------------\n",
      "Iter is: 1000 Alpha is: 0.05\n",
      "\n",
      "initial cost:  76.7879177377892 \n",
      "final cost:  3.0795989399092702\n",
      "RSS: 2395.927975249412 TSS: 3748.997429305912\n",
      "0.36091501249895674\n",
      "--------------------------------------------------\n",
      "Iter is: 1000 Alpha is: 0.001\n",
      "\n",
      "initial cost:  76.7879177377892 \n",
      "final cost:  13.010257938024235\n",
      "RSS: 10121.980675782856 TSS: 3748.997429305912\n",
      "-1.6999166754981836\n",
      "--------------------------------------------------\n",
      "Iter is: 1000 Alpha is: 0.0049\n",
      "\n",
      "initial cost:  76.7879177377892 \n",
      "final cost:  3.088129341267665\n",
      "RSS: 2402.5646275062436 TSS: 3748.997429305912\n",
      "0.3591447652843407\n",
      "--------------------------------------------------\n",
      "Iter is: 1000 Alpha is: 0.005\n",
      "\n",
      "initial cost:  76.7879177377892 \n",
      "final cost:  3.086899321005709\n",
      "RSS: 2401.6076717424426 TSS: 3748.997429305912\n",
      "0.35940002173138985\n",
      "--------------------------------------------------\n",
      "Iter is: 1000 Alpha is: 0.0001\n",
      "\n",
      "initial cost:  76.7879177377892 \n",
      "final cost:  63.03658498661289\n",
      "RSS: 49042.46311958483 TSS: 3748.997429305912\n",
      "-12.08148752949786\n",
      "--------------------------------------------------\n",
      "Iter is: 1000 Alpha is: 0.0005\n",
      "\n",
      "initial cost:  76.7879177377892 \n",
      "final cost:  29.786959443268316\n",
      "RSS: 23174.25444686275 TSS: 3748.997429305912\n",
      "-5.1814538110134745\n",
      "--------------------------------------------------\n",
      "Iter is: 1000 Alpha is: 0.0001\n",
      "\n",
      "initial cost:  76.7879177377892 \n",
      "final cost:  63.03658498661289\n",
      "RSS: 49042.46311958483 TSS: 3748.997429305912\n",
      "-12.08148752949786\n",
      "--------------------------------------------------\n",
      "**************************************************\n",
      "**************************************************\n",
      "10000\n",
      "Iter is: 10000 Alpha is: 0.01\n",
      "\n",
      "initial cost:  76.7879177377892 \n",
      "final cost:  3.0795989399092667\n",
      "RSS: 2395.9279752494085 TSS: 3748.997429305912\n",
      "0.36091501249895774\n",
      "--------------------------------------------------\n",
      "Iter is: 10000 Alpha is: 0.05\n",
      "\n",
      "initial cost:  76.7879177377892 \n",
      "final cost:  3.079598939909272\n",
      "RSS: 2395.927975249414 TSS: 3748.997429305912\n",
      "0.3609150124989563\n",
      "--------------------------------------------------\n",
      "Iter is: 10000 Alpha is: 0.001\n",
      "\n",
      "initial cost:  76.7879177377892 \n",
      "final cost:  3.07962116100836\n",
      "RSS: 2395.945263264505 TSS: 3748.997429305912\n",
      "0.36091040112873884\n",
      "--------------------------------------------------\n",
      "Iter is: 10000 Alpha is: 0.0049\n",
      "\n",
      "initial cost:  76.7879177377892 \n",
      "final cost:  3.079598939909273\n",
      "RSS: 2395.9279752494144 TSS: 3748.997429305912\n",
      "0.3609150124989562\n",
      "--------------------------------------------------\n",
      "Iter is: 10000 Alpha is: 0.005\n",
      "\n",
      "initial cost:  76.7879177377892 \n",
      "final cost:  3.0795989399092707\n",
      "RSS: 2395.9279752494135 TSS: 3748.997429305912\n",
      "0.3609150124989564\n",
      "--------------------------------------------------\n",
      "Iter is: 10000 Alpha is: 0.0001\n",
      "\n",
      "initial cost:  76.7879177377892 \n",
      "final cost:  13.01898976721273\n",
      "RSS: 10128.774038891504 TSS: 3748.997429305912\n",
      "-1.7017287234488023\n",
      "--------------------------------------------------\n",
      "Iter is: 10000 Alpha is: 0.0005\n",
      "\n",
      "initial cost:  76.7879177377892 \n",
      "final cost:  3.0870058035941668\n",
      "RSS: 2401.690515196262 TSS: 3748.997429305912\n",
      "0.359377924235891\n",
      "--------------------------------------------------\n",
      "Iter is: 10000 Alpha is: 0.0001\n",
      "\n",
      "initial cost:  76.7879177377892 \n",
      "final cost:  13.01898976721273\n",
      "RSS: 10128.774038891504 TSS: 3748.997429305912\n",
      "-1.7017287234488023\n",
      "--------------------------------------------------\n",
      "**************************************************\n"
     ]
    }
   ],
   "source": [
    "#Testing numbers on training set\n",
    "learning_rate = [0.01, 0.05, 0.001, 0.0049, 0.005, 0.0001, 0.0005, 0.0001]\n",
    "num_iters = [10,100, 1000, 10000]\n",
    "track = {}\n",
    "best_rsq = 0\n",
    "for nums in num_iters:\n",
    "    print(\"*\"* 50)\n",
    "    print(nums)\n",
    "    for alpha in learning_rate:\n",
    "        results = multiple_linear_reg_model_gda(X_1_train, y_2d_train, alpha, n_train, nums)\n",
    "        print(\"Iter is:\", nums, \"Alpha is:\", alpha)\n",
    "        #print(\"w: \", results[0], \"\\ninitial cost: \", results[1], \"\\nfinal cost: \", results[2])\n",
    "        print(\"\\ninitial cost: \", results[1], \"\\nfinal cost: \", results[2])\n",
    "        #print('-'*50)\n",
    "        rss = 0\n",
    "        for i in range(n_train):\n",
    "            rss += np.sum((np.dot(results[0].T,X_1_train[i])-y_2d_train[i])**2)\n",
    "        tss = np.sum((y_2d_train-np.mean(y_2d_train))**2) # TSS \n",
    "        print(\"RSS:\",rss,\"TSS:\", tss)\n",
    "        rsq = 1 - (rss/tss)\n",
    "        print(rsq)\n",
    "        if best_rsq<rsq:\n",
    "            best_rsq = rsq\n",
    "            track = {(nums,alpha): results, \"RSS\": rss ,\"TSS\":tss, \"rsq\":rsq}\n",
    "        print('-'*50)\n",
    "    print(\"*\"* 50)"
   ]
  },
  {
   "cell_type": "code",
   "execution_count": 16,
   "metadata": {},
   "outputs": [
    {
     "name": "stdout",
     "output_type": "stream",
     "text": [
      "Best rsq based off the testing different iters and alpha:\n",
      "(10000, 0.01) :  (array([[ 1.20141801e+01],\n",
      "       [ 5.44086436e-01],\n",
      "       [ 1.70079889e-01],\n",
      "       [ 3.05935336e-01],\n",
      "       [ 1.25575681e-02],\n",
      "       [ 1.40127661e-01],\n",
      "       [ 7.23264439e-04],\n",
      "       [ 1.71723240e-01],\n",
      "       [ 2.01866269e-01],\n",
      "       [-3.43902248e-02],\n",
      "       [ 2.99141914e-01],\n",
      "       [-7.99476674e-01],\n",
      "       [-4.21148182e-01],\n",
      "       [-7.20579131e-02],\n",
      "       [-1.65045191e-01],\n",
      "       [ 2.93040155e-01],\n",
      "       [-8.00133201e-02],\n",
      "       [ 5.84297947e-01],\n",
      "       [ 1.37553076e-02],\n",
      "       [-4.58568621e-01],\n",
      "       [ 2.26078821e-01],\n",
      "       [-1.48163119e-01],\n",
      "       [-2.04435551e-01],\n",
      "       [-2.10100472e-01],\n",
      "       [-6.92100915e-02],\n",
      "       [-3.63068485e-01],\n",
      "       [-2.96738911e-01]]), 76.7879177377892, 3.0795989399092667)\n",
      "RSS :  2395.9279752494085\n",
      "TSS :  3748.997429305912\n",
      "rsq :  0.36091501249895774\n"
     ]
    }
   ],
   "source": [
    "# The best rsq on training set based off gradient method\n",
    "print(\"Best rsq based off the testing different iters and alpha:\")\n",
    "for i in track.items():\n",
    "    print(i[0],\": \",i[1] )"
   ]
  },
  {
   "cell_type": "markdown",
   "metadata": {},
   "source": [
    "# Using sklearn library to calculate"
   ]
  },
  {
   "cell_type": "code",
   "execution_count": 17,
   "metadata": {},
   "outputs": [
    {
     "data": {
      "text/plain": [
       "LinearRegression()"
      ]
     },
     "execution_count": 17,
     "metadata": {},
     "output_type": "execute_result"
    }
   ],
   "source": [
    "#Creating our regression\n",
    "regr = linear_model.LinearRegression()\n",
    "regr.fit(X_train,y_train)"
   ]
  },
  {
   "cell_type": "code",
   "execution_count": 18,
   "metadata": {},
   "outputs": [
    {
     "name": "stdout",
     "output_type": "stream",
     "text": [
      "The intercept w0 =  [12.01418013]\n",
      "The coefficients w[1..d]= [[ 5.44086436e-01  1.70079889e-01  3.05935336e-01  1.25575681e-02\n",
      "   1.40127661e-01  7.23264439e-04  1.71723240e-01  2.01866269e-01\n",
      "  -3.43902248e-02  2.99141914e-01 -7.99476674e-01 -4.21148182e-01\n",
      "  -7.20579131e-02 -1.65045191e-01  2.93040155e-01 -8.00133201e-02\n",
      "   5.84297947e-01  1.37553076e-02 -4.58568621e-01  2.26078821e-01\n",
      "  -1.48163119e-01 -2.04435551e-01 -2.10100472e-01 -6.92100915e-02\n",
      "  -3.63068485e-01 -2.96738911e-01]]\n"
     ]
    }
   ],
   "source": [
    "print('The intercept w0 = ', regr.intercept_)\n",
    "print('The coefficients w[1..d]=', regr.coef_)"
   ]
  },
  {
   "cell_type": "code",
   "execution_count": 19,
   "metadata": {},
   "outputs": [
    {
     "name": "stdout",
     "output_type": "stream",
     "text": [
      "RSS = 2395.927975\n",
      "Ein = 6.159198\n",
      "RMSE = 2.481773\n",
      "R^2 = 0.360915\n"
     ]
    }
   ],
   "source": [
    "y_tr_pred = regr.predict(X_train)\n",
    "RSS = np.sum((y_tr_pred-y_train)**2)\n",
    "TSS = np.sum((y_train - np.mean(y_train))**2)\n",
    "print(\"RSS = {0:f}\".format(RSS))\n",
    "print(\"Ein = {0:f}\".format(RSS/y_train.shape[0]))\n",
    "print(\"RMSE = {0:f}\".format(np.sqrt(RSS/y_train.shape[0])))\n",
    "print(\"R^2 = {0:f}\".format(1-RSS/TSS))"
   ]
  },
  {
   "cell_type": "code",
   "execution_count": 20,
   "metadata": {},
   "outputs": [
    {
     "data": {
      "image/png": "[encoded data removed]",
      "text/plain": [
       "<Figure size 432x288 with 1 Axes>"
      ]
     },
     "metadata": {
      "needs_background": "light"
     },
     "output_type": "display_data"
    }
   ],
   "source": [
    "plt.scatter(y_train,y_tr_pred)\n",
    "#Set to 20, because maximum score for y is 20\n",
    "plt.plot([0, 20],[0, 20],'r')\n",
    "plt.xlabel('Actual')\n",
    "plt.ylabel('Predicted')\n",
    "plt.grid()"
   ]
  },
  {
   "cell_type": "markdown",
   "metadata": {},
   "source": [
    "# Validating over the testing set"
   ]
  },
  {
   "cell_type": "code",
   "execution_count": 21,
   "metadata": {},
   "outputs": [
    {
     "name": "stdout",
     "output_type": "stream",
     "text": [
      "RSS = 2193.102665\n",
      "Ein = 8.435010\n",
      "RMSE = 2.904309\n",
      "R^2 = 0.270462\n"
     ]
    }
   ],
   "source": [
    "y_test_pred = regr.predict(X_test)\n",
    "y_tr_pred = regr.predict(X_train)\n",
    "RSS = np.sum((y_test_pred-y_test)**2)\n",
    "TSS = np.sum((y_test - np.mean(y_test))**2)\n",
    "print(\"RSS = {0:f}\".format(RSS))\n",
    "print(\"Ein = {0:f}\".format(RSS/n_test))\n",
    "print(\"RMSE = {0:f}\".format(np.sqrt(RSS/n_test)))\n",
    "print(\"R^2 = {0:f}\".format(1-RSS/TSS))"
   ]
  },
  {
   "cell_type": "code",
   "execution_count": 22,
   "metadata": {},
   "outputs": [
    {
     "data": {
      "image/png": "[encoded data removed]",
      "text/plain": [
       "<Figure size 432x288 with 1 Axes>"
      ]
     },
     "metadata": {
      "needs_background": "light"
     },
     "output_type": "display_data"
    }
   ],
   "source": [
    "plt.scatter(y_test,y_test_pred)\n",
    "plt.plot([0,20],[0,20],'r')\n",
    "plt.xlabel('Actual')\n",
    "plt.xlabel('Predicted')\n",
    "plt.grid()"
   ]
  },
  {
   "cell_type": "markdown",
   "metadata": {},
   "source": [
    "# Multiple Linear regression with regularization "
   ]
  },
  {
   "cell_type": "code",
   "execution_count": 23,
   "metadata": {},
   "outputs": [],
   "source": [
    "def gradient_descent_ridge(X_1, y_2d, learning_rate, w, N, num_iters, lamda):\n",
    "    # Gradient descent on ridge regression\n",
    "    #Closed form solution = (X.T * X + N*lamda*Idenitiy).inverse (X.T*y)\n",
    "    identity = np.identity(w.shape[0])\n",
    "    identity[0,0] = 0\n",
    "    for i in range(num_iters): \n",
    "        first = np.linalg.inv(np.dot(X_1.T, X_1) + N*lamda*identity)\n",
    "        second = np.dot(X_1.T, y_2d)\n",
    "        ridge = np.dot(first,second)\n",
    "        w = ridge\n",
    "       \n",
    "        \n",
    "        if(i % 100 == 0):\n",
    "            # In place of ellipsis, call the cost you just coded above\n",
    "            cost = compute_cost(X_1, y_2d, w, N)\n",
    "            # You can uncomment print statements below to see how cost changes, \n",
    "            # but please make sure you put prints in comments before submission\n",
    "            #print(\"Cost\")\n",
    "            #print(cost)\n",
    "             \n",
    "    return w "
   ]
  },
  {
   "cell_type": "code",
   "execution_count": 24,
   "metadata": {},
   "outputs": [
    {
     "name": "stdout",
     "output_type": "stream",
     "text": [
      "[[ 1.20136306e+01]\n",
      " [ 4.73229812e-01]\n",
      " [ 1.46607698e-01]\n",
      " [ 2.35906919e-01]\n",
      " [ 2.95286840e-02]\n",
      " [ 1.24970259e-01]\n",
      " [-4.85292361e-03]\n",
      " [ 1.81236233e-01]\n",
      " [ 1.90288781e-01]\n",
      " [-4.68656996e-02]\n",
      " [ 2.97523254e-01]\n",
      " [-7.25535337e-01]\n",
      " [-3.83358432e-01]\n",
      " [-6.59064611e-02]\n",
      " [-1.52563577e-01]\n",
      " [ 2.64829129e-01]\n",
      " [-6.67223550e-02]\n",
      " [ 5.40848225e-01]\n",
      " [ 3.41451703e-02]\n",
      " [-4.06856697e-01]\n",
      " [ 2.12248361e-01]\n",
      " [-1.54727453e-01]\n",
      " [-1.73289875e-01]\n",
      " [-2.07912444e-01]\n",
      " [-8.67092642e-02]\n",
      " [-3.26276431e-01]\n",
      " [-2.71280886e-01]]\n",
      "g[0]:  12.013630647802657\n"
     ]
    }
   ],
   "source": [
    "w_testcase = np.zeros((X_1_train.shape[1],1))\n",
    "g = gradient_descent_ridge(X_1_train, y_2d_train, 0.0049, w_testcase, n_train, 1000, 0.1)\n",
    "print(g)\n",
    "print(\"g[0]: \", g[0][0])"
   ]
  },
  {
   "cell_type": "code",
   "execution_count": null,
   "metadata": {},
   "outputs": [],
   "source": []
  }
 ],
 "metadata": {
  "kernelspec": {
   "display_name": "Python 3",
   "language": "python",
   "name": "python3"
  },
  "language_info": {
   "codemirror_mode": {
    "name": "ipython",
    "version": 3
   },
   "file_extension": ".py",
   "mimetype": "text/x-python",
   "name": "python",
   "nbconvert_exporter": "python",
   "pygments_lexer": "ipython3",
   "version": "3.8.5"
  }
 },
 "nbformat": 4,
 "nbformat_minor": 4
}
