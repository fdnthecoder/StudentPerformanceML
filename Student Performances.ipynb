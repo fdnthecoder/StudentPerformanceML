{
 "cells": [
  {
   "cell_type": "markdown",
   "metadata": {},
   "source": [
    "# STUDENT PERFORMANCES\n",
    "## Machine Learning project\n",
    "## Team: Amadou and Jamie\n",
    "\n",
    "* Analysis of student performances\n",
    "* Features: 33 \n",
    "* Data: 649\n",
    "\n",
    "There are 2 different csv files in the data folder. One (student-port.csv) being the data set of the students that took the portugese language course and another (student-mat.csv) of the students that are taking the math course. There are 382 students that are taking both courses. \n",
    "\n",
    "More information about the dataset is in the data folder, labeled student.txt"
   ]
  },
  {
   "cell_type": "code",
   "execution_count": 1,
   "metadata": {},
   "outputs": [],
   "source": [
    "# Importing the libraries to be used:\n",
    "import numpy as np\n",
    "import pandas as pd\n",
    "from sklearn import linear_model, preprocessing\n",
    "import matplotlib.pyplot as plt\n",
    "%matplotlib inline \n",
    "\n",
    "from sklearn.preprocessing import StandardScaler  # It is important in neural networks to scale the date\n",
    "from sklearn.model_selection import train_test_split  # The standard - train/test to prevent overfitting and choose hyperparameters\n",
    "from sklearn.metrics import accuracy_score # \n",
    "import matplotlib.pyplot as plt "
   ]
  },
  {
   "cell_type": "code",
   "execution_count": 2,
   "metadata": {
    "scrolled": true
   },
   "outputs": [
    {
     "name": "stdout",
     "output_type": "stream",
     "text": [
      "    school sex  age address famsize Pstatus  Medu  Fedu      Mjob      Fjob  \\\n",
      "0       GP   F   18       U     GT3       A     4     4   at_home   teacher   \n",
      "1       GP   F   17       U     GT3       T     1     1   at_home     other   \n",
      "2       GP   F   15       U     LE3       T     1     1   at_home     other   \n",
      "3       GP   F   15       U     GT3       T     4     2    health  services   \n",
      "4       GP   F   16       U     GT3       T     3     3     other     other   \n",
      "..     ...  ..  ...     ...     ...     ...   ...   ...       ...       ...   \n",
      "644     MS   F   19       R     GT3       T     2     3  services     other   \n",
      "645     MS   F   18       U     LE3       T     3     1   teacher  services   \n",
      "646     MS   F   18       U     GT3       T     1     1     other     other   \n",
      "647     MS   M   17       U     LE3       T     3     1  services  services   \n",
      "648     MS   M   18       R     LE3       T     3     2  services     other   \n",
      "\n",
      "     ... famrel freetime  goout  Dalc  Walc health absences  G1  G2  G3  \n",
      "0    ...      4        3      4     1     1      3        4   0  11  11  \n",
      "1    ...      5        3      3     1     1      3        2   9  11  11  \n",
      "2    ...      4        3      2     2     3      3        6  12  13  12  \n",
      "3    ...      3        2      2     1     1      5        0  14  14  14  \n",
      "4    ...      4        3      2     1     2      5        0  11  13  13  \n",
      "..   ...    ...      ...    ...   ...   ...    ...      ...  ..  ..  ..  \n",
      "644  ...      5        4      2     1     2      5        4  10  11  10  \n",
      "645  ...      4        3      4     1     1      1        4  15  15  16  \n",
      "646  ...      1        1      1     1     1      5        6  11  12   9  \n",
      "647  ...      2        4      5     3     4      2        6  10  10  10  \n",
      "648  ...      4        4      1     3     4      5        4  10  11  11  \n",
      "\n",
      "[649 rows x 33 columns]\n"
     ]
    }
   ],
   "source": [
    "df1 = pd.read_csv(\"data\\student-por.csv\",sep=\";\") #read file from different directory\n",
    "df2 = pd.read_csv(\"data\\student-mat.csv\", sep = \";\")\n",
    "print(df1)\n",
    "#df1.to_csv(\"port.csv\") # made in to a csv after being made in to a table - easier to read compared to original excel file\n"
   ]
  },
  {
   "cell_type": "code",
   "execution_count": 3,
   "metadata": {},
   "outputs": [
    {
     "data": {
      "text/html": [
       "<div>\n",
       "<style scoped>\n",
       "    .dataframe tbody tr th:only-of-type {\n",
       "        vertical-align: middle;\n",
       "    }\n",
       "\n",
       "    .dataframe tbody tr th {\n",
       "        vertical-align: top;\n",
       "    }\n",
       "\n",
       "    .dataframe thead th {\n",
       "        text-align: right;\n",
       "    }\n",
       "</style>\n",
       "<table border=\"1\" class=\"dataframe\">\n",
       "  <thead>\n",
       "    <tr style=\"text-align: right;\">\n",
       "      <th></th>\n",
       "      <th>G3</th>\n",
       "    </tr>\n",
       "  </thead>\n",
       "  <tbody>\n",
       "    <tr>\n",
       "      <th>0</th>\n",
       "      <td>11</td>\n",
       "    </tr>\n",
       "    <tr>\n",
       "      <th>1</th>\n",
       "      <td>11</td>\n",
       "    </tr>\n",
       "    <tr>\n",
       "      <th>2</th>\n",
       "      <td>12</td>\n",
       "    </tr>\n",
       "    <tr>\n",
       "      <th>3</th>\n",
       "      <td>14</td>\n",
       "    </tr>\n",
       "    <tr>\n",
       "      <th>4</th>\n",
       "      <td>13</td>\n",
       "    </tr>\n",
       "    <tr>\n",
       "      <th>...</th>\n",
       "      <td>...</td>\n",
       "    </tr>\n",
       "    <tr>\n",
       "      <th>644</th>\n",
       "      <td>10</td>\n",
       "    </tr>\n",
       "    <tr>\n",
       "      <th>645</th>\n",
       "      <td>16</td>\n",
       "    </tr>\n",
       "    <tr>\n",
       "      <th>646</th>\n",
       "      <td>9</td>\n",
       "    </tr>\n",
       "    <tr>\n",
       "      <th>647</th>\n",
       "      <td>10</td>\n",
       "    </tr>\n",
       "    <tr>\n",
       "      <th>648</th>\n",
       "      <td>11</td>\n",
       "    </tr>\n",
       "  </tbody>\n",
       "</table>\n",
       "<p>649 rows × 1 columns</p>\n",
       "</div>"
      ],
      "text/plain": [
       "     G3\n",
       "0    11\n",
       "1    11\n",
       "2    12\n",
       "3    14\n",
       "4    13\n",
       "..   ..\n",
       "644  10\n",
       "645  16\n",
       "646   9\n",
       "647  10\n",
       "648  11\n",
       "\n",
       "[649 rows x 1 columns]"
      ]
     },
     "execution_count": 3,
     "metadata": {},
     "output_type": "execute_result"
    }
   ],
   "source": [
    "#Splitting the data accordingly\n",
    "X = df1.iloc[:, :30]\n",
    "y = df1.iloc[:, 32:]\n",
    "X.dropna()\n",
    "y.dropna()"
   ]
  },
  {
   "cell_type": "markdown",
   "metadata": {},
   "source": [
    "## Converting the specific features to binary to make it easier to work with\n",
    "### school:  GP = 1 , MS = 0\n",
    "### sex:  F = 1, M = 0\n",
    "### address: U(urban) = 1, R(rural) = 0\n",
    "### family size:  LE3 = 1, GT3 = 0\n",
    "### pstatus: T(living together) = 1, A(living apart) = 0"
   ]
  },
  {
   "cell_type": "code",
   "execution_count": 4,
   "metadata": {},
   "outputs": [],
   "source": [
    "def fixingfile(X):\n",
    "    switch = {0: (\"GP\", \"MS\"), 1: (\"F\", \"M\"), 3: (\"U\", \"R\"), 4: (\"LE3\", \"GT3\"), 5:(\"T\", \"A\"), 15:(\"yes\",\"no\"), 16:(\"yes\",\"no\"),\n",
    "             17:(\"yes\",\"no\"), 18:(\"yes\",\"no\"), 19:(\"yes\",\"no\"), 20:(\"yes\",\"no\"), 21:(\"yes\",\"no\"), 22:(\"yes\",\"no\")}\n",
    "    #ignore = [\"age\", \"Medu\", \"Fedu\",\"Mjob\", \"Fjob\", 'reason', 'guardian','traveltime', 'studytime',\n",
    "    #       'failures']\n",
    "    #print(X.columns)\n",
    "    #print(X.iloc[0,:])\n",
    "    for column in range(len(X.columns)):\n",
    "        if column not in switch:\n",
    "            continue\n",
    "        for i in range(len(X.iloc[:,column])):\n",
    "           #print(X.iloc[i, column] == \"U\",X.iloc[i, column], switch[column])\n",
    "            if X.iloc[i,column] == switch[column][0]:\n",
    "                #print(X.iloc[i, column], switch[column][0])\n",
    "                X.iloc[i,column] = 1\n",
    "            elif X.iloc[i, column] == switch[column][1]:\n",
    "                X.iloc[i,column] = 0\n",
    "    X.drop([\"Mjob\", \"Fjob\", \"reason\", \"guardian\"], axis = 1, inplace=True) #Remove the ones with more than 1 and 0 answers\n",
    "    print(X.shape)\n",
    "    return X"
   ]
  },
  {
   "cell_type": "code",
   "execution_count": 5,
   "metadata": {},
   "outputs": [
    {
     "name": "stdout",
     "output_type": "stream",
     "text": [
      "(649, 26)\n"
     ]
    }
   ],
   "source": [
    "X_fixed = fixingfile(X)\n",
    "y = np.array(y) #changed to array to be easier to work with\n",
    "X = np.array(X_fixed)"
   ]
  },
  {
   "cell_type": "code",
   "execution_count": 6,
   "metadata": {},
   "outputs": [],
   "source": [
    "X_scale = StandardScaler()\n",
    "X = np.array(X_scale.fit_transform(X))"
   ]
  },
  {
   "cell_type": "code",
   "execution_count": 7,
   "metadata": {},
   "outputs": [],
   "source": [
    "#Split the data into training and test set.  60% training and %40 test\n",
    "X_train, X_test, y_train, y_test = train_test_split(X, y, test_size=0.4)"
   ]
  },
  {
   "cell_type": "markdown",
   "metadata": {},
   "source": [
    "# FROM here on out the markdown split up which model. Add cells according to which mark down. Here is the order\n",
    "## 1. Multiple Linear Regression\n",
    "## 2. Neutral Network \n",
    "## 3. SVM"
   ]
  },
  {
   "cell_type": "markdown",
   "metadata": {},
   "source": [
    "# 1. Multiple Linear Regression"
   ]
  },
  {
   "cell_type": "code",
   "execution_count": 8,
   "metadata": {},
   "outputs": [
    {
     "name": "stdout",
     "output_type": "stream",
     "text": [
      "Checking y_2d_train is in 2d: (389, 1)\n",
      "Checking y_2d_test is in 2d: (260, 1)\n"
     ]
    }
   ],
   "source": [
    "#reshaping ys to 2d\n",
    "y_2d_train = y_train.reshape(y_train.shape[0], 1)\n",
    "y_2d_test = y_test.reshape(y_test.shape[0],1)\n",
    "print(\"Checking y_2d_train is in 2d:\", y_2d_train.shape)\n",
    "print(\"Checking y_2d_test is in 2d:\", y_2d_test.shape)"
   ]
  },
  {
   "cell_type": "code",
   "execution_count": 9,
   "metadata": {},
   "outputs": [
    {
     "name": "stdout",
     "output_type": "stream",
     "text": [
      "Number training of rows: 389\n",
      "Number testing of rows: 260\n"
     ]
    }
   ],
   "source": [
    "n_train = y_2d_train.shape[0]\n",
    "n_test = y_2d_test.shape[0]\n",
    "print(\"Number training of rows:\", n_train)\n",
    "print(\"Number testing of rows:\", n_test)"
   ]
  },
  {
   "cell_type": "code",
   "execution_count": 10,
   "metadata": {},
   "outputs": [
    {
     "name": "stdout",
     "output_type": "stream",
     "text": [
      "X_1 shape: (389, 27)\n",
      "X_1 with ones:  [[ 1.          0.73094388 -1.19993734 ...  1.33986431  1.01290255\n",
      "  -0.78915946]\n",
      " [ 1.          0.73094388 -1.19993734 ... -0.99769466 -1.75498694\n",
      "  -0.78915946]\n",
      " [ 1.          0.73094388  0.83337685 ... -0.99769466  0.32093018\n",
      "   1.36732259]\n",
      " ...\n",
      " [ 1.          0.73094388 -1.19993734 ...  1.33986431  1.01290255\n",
      "  -0.35786305]\n",
      " [ 1.          0.73094388  0.83337685 ... -0.21850834 -1.06301457\n",
      "   0.50472977]\n",
      " [ 1.          0.73094388 -1.19993734 ... -0.99769466  1.01290255\n",
      "  -0.35786305]]\n"
     ]
    }
   ],
   "source": [
    "# Adding the column of ones infront of x_train\n",
    "ones_train = np.ones((n_train, 1))\n",
    "X_1_train = np.hstack((ones_train, X_train))\n",
    "print(\"X_1 shape:\", X_1_train.shape)\n",
    "print(\"X_1 with ones: \", X_1_train)"
   ]
  },
  {
   "cell_type": "code",
   "execution_count": 11,
   "metadata": {},
   "outputs": [
    {
     "name": "stdout",
     "output_type": "stream",
     "text": [
      "X_1_test shape: (260, 27)\n",
      "X_1_test with ones:  [[ 1.          0.73094388 -1.19993734 ...  1.33986431  1.01290255\n",
      "   0.93602618]\n",
      " [ 1.         -1.36809408  0.83337685 ...  1.33986431  1.01290255\n",
      "  -0.57351125]\n",
      " [ 1.         -1.36809408  0.83337685 ... -0.99769466 -1.75498694\n",
      "  -0.78915946]\n",
      " ...\n",
      " [ 1.         -1.36809408 -1.19993734 ...  0.56067799  1.01290255\n",
      "   0.07343336]\n",
      " [ 1.          0.73094388 -1.19993734 ... -0.21850834  1.01290255\n",
      "   1.36732259]\n",
      " [ 1.          0.73094388 -1.19993734 ... -0.99769466  1.01290255\n",
      "   0.93602618]]\n"
     ]
    }
   ],
   "source": [
    "#Adding ones to testing set\n",
    "ones_test = np.ones((n_test, 1))\n",
    "X_1_test = np.hstack((ones_test, X_test))\n",
    "print(\"X_1_test shape:\", X_1_test.shape)\n",
    "print(\"X_1_test with ones: \", X_1_test)"
   ]
  },
  {
   "cell_type": "markdown",
   "metadata": {},
   "source": [
    "# Doing multiple linear regression with gradient and manually calculating without library"
   ]
  },
  {
   "cell_type": "code",
   "execution_count": 12,
   "metadata": {},
   "outputs": [],
   "source": [
    "def compute_cost(X_1, y_2d, w, N):\n",
    "    # Write your code in place of ellipsis. Cost can be calculated using a single line of code.\n",
    "    # Remember w is a vector here.\n",
    "    \n",
    "    # TODO Q07 - Taken from hw\n",
    "    # Write the cost function\n",
    "    #ISSUES: X AND Y ARE NOW 2D ARRAYS\n",
    "    cost = sum((y_2d- (np.dot(X_1, w)))**2)/(2*N)\n",
    "    \n",
    "    return cost[0]"
   ]
  },
  {
   "cell_type": "code",
   "execution_count": 55,
   "metadata": {},
   "outputs": [],
   "source": [
    "def gradient_descent(X_1, y_2d, learning_rate, w, N, num_iters):\n",
    "    # In place of ellipsis, write the updated value of w0 in temp0 and of w1 in temp1\n",
    "    # TODO Q08\n",
    "    # Finish the gradient descent function\n",
    "    \n",
    "    for i in range(num_iters):\n",
    "        # derivative vector is given by : X_train.Transpose *  (( X_train * w)- y ) \n",
    "        slope = np.dot(X_1, w)\n",
    "        der_vector = np.dot(X_1.T,(slope - y_2d))\n",
    "        w = w - (learning_rate * (1/N)) * der_vector\n",
    "       \n",
    "        \n",
    "        if(i % 100 == 0):\n",
    "            # In place of ellipsis, call the cost you just coded above\n",
    "            cost = compute_cost(X_1, y_2d, w, N)\n",
    "            # You can uncomment print statements below to see how cost changes, \n",
    "            # but please make sure you put prints in comments before submission\n",
    "            #print(\"Cost\")\n",
    "            #print(cost)\n",
    "             \n",
    "    return w "
   ]
  },
  {
   "cell_type": "code",
   "execution_count": 56,
   "metadata": {},
   "outputs": [
    {
     "name": "stdout",
     "output_type": "stream",
     "text": [
      "g[0]:  11.847601665231174\n"
     ]
    }
   ],
   "source": [
    "w_testcase = np.zeros((X_1_train.shape[1],1))\n",
    "g = gradient_descent(X_1_train, y_2d_train, 0.0049, w_testcase, n_train, 1000)\n",
    "#print(g)\n",
    "print(\"g[0]: \", g[0][0])"
   ]
  },
  {
   "cell_type": "code",
   "execution_count": 57,
   "metadata": {},
   "outputs": [],
   "source": [
    "def multiple_linear_reg_model_gda(X_1, y_2d, learning_rate, N, num_iters):\n",
    "    #initialize the values of parameter vector w. It should be a column vector of zeros of dimension(d+1,1)\n",
    "    # TODO 09 \n",
    "    # Complete the function\n",
    "    w = np.zeros((X_1.shape[1],1))\n",
    "    \n",
    "    # Calculate the initial cost by calling the function you coded above.\n",
    "    initial_cost = compute_cost(X_1, y_2d, w, N)\n",
    "    \n",
    "    # Calculate the optimized value of gradients by calling the gradient_descent function coded above\n",
    "    w = gradient_descent(X_1, y_2d, learning_rate, w, N, num_iters)\n",
    "    \n",
    "    # Calculate the cost with the optimized value of w0 and w1 by calling the cost function.\n",
    "    final_cost = compute_cost(X_1, y_2d, w, N)\n",
    "\n",
    "    return w, initial_cost, final_cost"
   ]
  },
  {
   "cell_type": "code",
   "execution_count": 58,
   "metadata": {},
   "outputs": [
    {
     "name": "stdout",
     "output_type": "stream",
     "text": [
      "**************************************************\n",
      "10\n",
      "Iter is: 10 Alpha is: 0.01\n",
      "\n",
      "initial cost:  75.75964010282776 \n",
      "final cost:  62.41024534709185\n",
      "RSS: 48555.17088003746 TSS: 4189.778920308483\n",
      "-10.588957747790298\n",
      "--------------------------------------------------\n",
      "Iter is: 10 Alpha is: 0.05\n",
      "\n",
      "initial cost:  75.75964010282776 \n",
      "final cost:  29.26480956068199\n",
      "RSS: 22768.02183821059 TSS: 4189.778920308483\n",
      "-4.434182154063212\n",
      "--------------------------------------------------\n",
      "Iter is: 10 Alpha is: 0.001\n",
      "\n",
      "initial cost:  75.75964010282776 \n",
      "final cost:  74.30153173059058\n",
      "RSS: 57806.59168639947 TSS: 4189.778920308483\n",
      "-12.797050580927387\n",
      "--------------------------------------------------\n",
      "Iter is: 10 Alpha is: 0.0049\n",
      "\n",
      "initial cost:  75.75964010282776 \n",
      "final cost:  68.88515261517901\n",
      "RSS: 53592.64873460927 TSS: 4189.778920308483\n",
      "-11.791283204666888\n",
      "--------------------------------------------------\n",
      "Iter is: 10 Alpha is: 0.005\n",
      "\n",
      "initial cost:  75.75964010282776 \n",
      "final cost:  68.75174442409875\n",
      "RSS: 53488.85716194882 TSS: 4189.778920308483\n",
      "-11.76651063918441\n",
      "--------------------------------------------------\n",
      "Iter is: 10 Alpha is: 0.0001\n",
      "\n",
      "initial cost:  75.75964010282776 \n",
      "final cost:  75.61251597209252\n",
      "RSS: 58826.537426287985 TSS: 4189.778920308483\n",
      "-13.040487229802745\n",
      "--------------------------------------------------\n",
      "Iter is: 10 Alpha is: 0.0005\n",
      "\n",
      "initial cost:  75.75964010282776 \n",
      "final cost:  75.02694747499325\n",
      "RSS: 58370.96513554475 TSS: 4189.778920308483\n",
      "-12.931753022244678\n",
      "--------------------------------------------------\n",
      "Iter is: 10 Alpha is: 0.0001\n",
      "\n",
      "initial cost:  75.75964010282776 \n",
      "final cost:  75.61251597209252\n",
      "RSS: 58826.537426287985 TSS: 4189.778920308483\n",
      "-13.040487229802745\n",
      "--------------------------------------------------\n",
      "**************************************************\n",
      "**************************************************\n",
      "100\n",
      "Iter is: 100 Alpha is: 0.01\n",
      "\n",
      "initial cost:  75.75964010282776 \n",
      "final cost:  13.303749767852445\n",
      "RSS: 10350.317319389202 TSS: 4189.778920308483\n",
      "-1.4703731428929747\n",
      "--------------------------------------------------\n",
      "Iter is: 100 Alpha is: 0.05\n",
      "\n",
      "initial cost:  75.75964010282776 \n",
      "final cost:  3.4937849454090353\n",
      "RSS: 2718.1646875282295 TSS: 4189.778920308483\n",
      "0.35123911327328516\n",
      "--------------------------------------------------\n",
      "Iter is: 100 Alpha is: 0.001\n",
      "\n",
      "initial cost:  75.75964010282776 \n",
      "final cost:  62.466651802659136\n",
      "RSS: 48599.05510246881 TSS: 4189.778920308483\n",
      "-10.599431861882245\n",
      "--------------------------------------------------\n",
      "Iter is: 100 Alpha is: 0.0049\n",
      "\n",
      "initial cost:  75.75964010282776 \n",
      "final cost:  30.410457975126064\n",
      "RSS: 23659.336304648084 TSS: 4189.778920308483\n",
      "-4.646917595094995\n",
      "--------------------------------------------------\n",
      "Iter is: 100 Alpha is: 0.005\n",
      "\n",
      "initial cost:  75.75964010282776 \n",
      "final cost:  29.878616474478136\n",
      "RSS: 23245.56361714399 TSS: 4189.778920308483\n",
      "-4.548159952896149\n",
      "--------------------------------------------------\n",
      "Iter is: 100 Alpha is: 0.0001\n",
      "\n",
      "initial cost:  75.75964010282776 \n",
      "final cost:  74.30221340022979\n",
      "RSS: 57807.122025378776 TSS: 4189.778920308483\n",
      "-12.797177160154927\n",
      "--------------------------------------------------\n",
      "Iter is: 100 Alpha is: 0.0005\n",
      "\n",
      "initial cost:  75.75964010282776 \n",
      "final cost:  68.76740808699952\n",
      "RSS: 53501.04349168563 TSS: 4189.778920308483\n",
      "-11.769419224570084\n",
      "--------------------------------------------------\n",
      "Iter is: 100 Alpha is: 0.0001\n",
      "\n",
      "initial cost:  75.75964010282776 \n",
      "final cost:  74.30221340022979\n",
      "RSS: 57807.122025378776 TSS: 4189.778920308483\n",
      "-12.797177160154927\n",
      "--------------------------------------------------\n",
      "**************************************************\n",
      "**************************************************\n",
      "1000\n",
      "Iter is: 1000 Alpha is: 0.01\n",
      "\n",
      "initial cost:  75.75964010282776 \n",
      "final cost:  3.485641241189967\n",
      "RSS: 2711.828885645795 TSS: 4189.778920308483\n",
      "0.3527513176169855\n",
      "--------------------------------------------------\n",
      "Iter is: 1000 Alpha is: 0.05\n",
      "\n",
      "initial cost:  75.75964010282776 \n",
      "final cost:  3.485566276584574\n",
      "RSS: 2711.770563182798 TSS: 4189.778920308483\n",
      "0.3527652377937075\n",
      "--------------------------------------------------\n",
      "Iter is: 1000 Alpha is: 0.001\n",
      "\n",
      "initial cost:  75.75964010282776 \n",
      "final cost:  13.389869451511375\n",
      "RSS: 10417.318433275852 TSS: 4189.778920308483\n",
      "-1.4863647059708942\n",
      "--------------------------------------------------\n",
      "Iter is: 1000 Alpha is: 0.0049\n",
      "\n",
      "initial cost:  75.75964010282776 \n",
      "final cost:  3.496360494765673\n",
      "RSS: 2720.1684649276935 TSS: 4189.778920308483\n",
      "0.35076085954258074\n",
      "--------------------------------------------------\n",
      "Iter is: 1000 Alpha is: 0.005\n",
      "\n",
      "initial cost:  75.75964010282776 \n",
      "final cost:  3.4949095741506326\n",
      "RSS: 2719.039648689192 TSS: 4189.778920308483\n",
      "0.35103028097506495\n",
      "--------------------------------------------------\n",
      "Iter is: 1000 Alpha is: 0.0001\n",
      "\n",
      "initial cost:  75.75964010282776 \n",
      "final cost:  62.47225558847524\n",
      "RSS: 48603.41484783374 TSS: 4189.778920308483\n",
      "-10.600472428806622\n",
      "--------------------------------------------------\n",
      "Iter is: 1000 Alpha is: 0.0005\n",
      "\n",
      "initial cost:  75.75964010282776 \n",
      "final cost:  29.93873348298715\n",
      "RSS: 23292.334649764 TSS: 4189.778920308483\n",
      "-4.559323079521591\n",
      "--------------------------------------------------\n",
      "Iter is: 1000 Alpha is: 0.0001\n",
      "\n",
      "initial cost:  75.75964010282776 \n",
      "final cost:  62.47225558847524\n",
      "RSS: 48603.41484783374 TSS: 4189.778920308483\n",
      "-10.600472428806622\n",
      "--------------------------------------------------\n",
      "**************************************************\n",
      "**************************************************\n",
      "10000\n",
      "Iter is: 10000 Alpha is: 0.01\n",
      "\n",
      "initial cost:  75.75964010282776 \n",
      "final cost:  3.485566276584572\n",
      "RSS: 2711.770563182798 TSS: 4189.778920308483\n",
      "0.3527652377937075\n",
      "--------------------------------------------------\n",
      "Iter is: 10000 Alpha is: 0.05\n",
      "\n",
      "initial cost:  75.75964010282776 \n",
      "final cost:  3.4855662765845685\n",
      "RSS: 2711.770563182795 TSS: 4189.778920308483\n",
      "0.3527652377937083\n",
      "--------------------------------------------------\n",
      "Iter is: 10000 Alpha is: 0.001\n",
      "\n",
      "initial cost:  75.75964010282776 \n",
      "final cost:  3.4856421279124845\n",
      "RSS: 2711.829575515913 TSS: 4189.778920308483\n",
      "0.3527511529614914\n",
      "--------------------------------------------------\n",
      "Iter is: 10000 Alpha is: 0.0049\n",
      "\n",
      "initial cost:  75.75964010282776 \n",
      "final cost:  3.4855662765845756\n",
      "RSS: 2711.7705631828003 TSS: 4189.778920308483\n",
      "0.35276523779370694\n",
      "--------------------------------------------------\n",
      "Iter is: 10000 Alpha is: 0.005\n",
      "\n",
      "initial cost:  75.75964010282776 \n",
      "final cost:  3.485566276584575\n",
      "RSS: 2711.7705631827994 TSS: 4189.778920308483\n",
      "0.35276523779370716\n",
      "--------------------------------------------------\n",
      "Iter is: 10000 Alpha is: 0.0001\n",
      "\n",
      "initial cost:  75.75964010282776 \n",
      "final cost:  13.39846862755256\n",
      "RSS: 10424.008592235888 TSS: 4189.778920308483\n",
      "-1.4879614868720554\n",
      "--------------------------------------------------\n",
      "Iter is: 10000 Alpha is: 0.0005\n",
      "\n",
      "initial cost:  75.75964010282776 \n",
      "final cost:  3.495029593939499\n",
      "RSS: 2719.13302408493 TSS: 4189.778920308483\n",
      "0.35100799450183706\n",
      "--------------------------------------------------\n",
      "Iter is: 10000 Alpha is: 0.0001\n",
      "\n",
      "initial cost:  75.75964010282776 \n",
      "final cost:  13.39846862755256\n",
      "RSS: 10424.008592235888 TSS: 4189.778920308483\n",
      "-1.4879614868720554\n",
      "--------------------------------------------------\n",
      "**************************************************\n"
     ]
    }
   ],
   "source": [
    "#Testing numbers on training set\n",
    "learning_rate = [0.01, 0.05, 0.001, 0.0049, 0.005, 0.0001, 0.0005, 0.0001]\n",
    "num_iters = [10,100, 1000, 10000]\n",
    "track = {}\n",
    "best_rsq = 0\n",
    "for nums in num_iters:\n",
    "    print(\"*\"* 50)\n",
    "    print(nums)\n",
    "    for alpha in learning_rate:\n",
    "        results = multiple_linear_reg_model_gda(X_1_train, y_2d_train, alpha, n_train, nums)\n",
    "        print(\"Iter is:\", nums, \"Alpha is:\", alpha)\n",
    "        #print(\"w: \", results[0], \"\\ninitial cost: \", results[1], \"\\nfinal cost: \", results[2])\n",
    "        print(\"\\ninitial cost: \", results[1], \"\\nfinal cost: \", results[2])\n",
    "        #print('-'*50)\n",
    "        rss = 0\n",
    "        for i in range(n_train):\n",
    "            rss += np.sum((np.dot(results[0].T,X_1_train[i])-y_2d_train[i])**2)\n",
    "        tss = np.sum((y_2d_train-np.mean(y_2d_train))**2) # TSS \n",
    "        print(\"RSS:\",rss,\"TSS:\", tss)\n",
    "        rsq = 1 - (rss/tss)\n",
    "        print(rsq)\n",
    "        if best_rsq<rsq:\n",
    "            best_rsq = rsq\n",
    "            track = {(nums,alpha): results, \"RSS\": rss ,\"TSS\":tss, \"rsq\":rsq}\n",
    "        print('-'*50)\n",
    "    print(\"*\"* 50)"
   ]
  },
  {
   "cell_type": "code",
   "execution_count": 59,
   "metadata": {},
   "outputs": [
    {
     "name": "stdout",
     "output_type": "stream",
     "text": [
      "Best rsq based off the testing different iters and alpha:\n",
      "(10000, 0.05) :  (array([[ 1.19639118e+01],\n",
      "       [ 5.76117744e-01],\n",
      "       [ 4.56504353e-01],\n",
      "       [ 1.51117731e-01],\n",
      "       [ 1.54984676e-01],\n",
      "       [ 2.80474466e-01],\n",
      "       [ 1.59764982e-01],\n",
      "       [ 2.02308368e-01],\n",
      "       [ 3.01389922e-01],\n",
      "       [-1.13275168e-02],\n",
      "       [ 3.38557736e-01],\n",
      "       [-8.46293709e-01],\n",
      "       [-4.19479000e-01],\n",
      "       [-4.22545542e-02],\n",
      "       [-1.26143722e-01],\n",
      "       [ 1.75723830e-01],\n",
      "       [-1.78715395e-01],\n",
      "       [ 3.86304718e-01],\n",
      "       [ 1.45336726e-01],\n",
      "       [-1.61503841e-01],\n",
      "       [ 1.38814681e-01],\n",
      "       [-3.14988345e-01],\n",
      "       [-2.24556989e-02],\n",
      "       [-9.54349265e-02],\n",
      "       [-1.51322130e-01],\n",
      "       [-3.27038587e-01],\n",
      "       [-2.05434908e-01]]), 75.75964010282776, 3.4855662765845685)\n",
      "RSS :  2711.770563182795\n",
      "TSS :  4189.778920308483\n",
      "rsq :  0.3527652377937083\n"
     ]
    }
   ],
   "source": [
    "# The best rsq on training set based off gradient method\n",
    "print(\"Best rsq based off the testing different iters and alpha:\")\n",
    "for i in track.items():\n",
    "    print(i[0],\": \",i[1] )"
   ]
  },
  {
   "cell_type": "markdown",
   "metadata": {},
   "source": [
    "# Using sklearn library to calculate"
   ]
  },
  {
   "cell_type": "code",
   "execution_count": 60,
   "metadata": {},
   "outputs": [
    {
     "data": {
      "text/plain": [
       "LinearRegression()"
      ]
     },
     "execution_count": 60,
     "metadata": {},
     "output_type": "execute_result"
    }
   ],
   "source": [
    "#Creating our regression\n",
    "regr = linear_model.LinearRegression()\n",
    "regr.fit(X_train,y_train)"
   ]
  },
  {
   "cell_type": "code",
   "execution_count": 61,
   "metadata": {},
   "outputs": [
    {
     "name": "stdout",
     "output_type": "stream",
     "text": [
      "The intercept w0 =  [11.96391178]\n",
      "The coefficients w[1..d]= [[ 0.57611774  0.45650435  0.15111773  0.15498468  0.28047447  0.15976498\n",
      "   0.20230837  0.30138992 -0.01132752  0.33855774 -0.84629371 -0.419479\n",
      "  -0.04225455 -0.12614372  0.17572383 -0.1787154   0.38630472  0.14533673\n",
      "  -0.16150384  0.13881468 -0.31498834 -0.0224557  -0.09543493 -0.15132213\n",
      "  -0.32703859 -0.20543491]]\n"
     ]
    }
   ],
   "source": [
    "print('The intercept w0 = ', regr.intercept_)\n",
    "print('The coefficients w[1..d]=', regr.coef_)"
   ]
  },
  {
   "cell_type": "code",
   "execution_count": 62,
   "metadata": {},
   "outputs": [
    {
     "name": "stdout",
     "output_type": "stream",
     "text": [
      "RSS = 2711.770563\n",
      "Ein = 6.971133\n",
      "RMSE = 2.640290\n",
      "R^2 = 0.352765\n"
     ]
    }
   ],
   "source": [
    "y_tr_pred = regr.predict(X_train)\n",
    "RSS = np.sum((y_tr_pred-y_train)**2)\n",
    "TSS = np.sum((y_train - np.mean(y_train))**2)\n",
    "print(\"RSS = {0:f}\".format(RSS))\n",
    "print(\"Ein = {0:f}\".format(RSS/y_train.shape[0]))\n",
    "print(\"RMSE = {0:f}\".format(np.sqrt(RSS/y_train.shape[0])))\n",
    "print(\"R^2 = {0:f}\".format(1-RSS/TSS))"
   ]
  },
  {
   "cell_type": "code",
   "execution_count": 63,
   "metadata": {},
   "outputs": [
    {
     "data": {
      "image/png": "[encoded data removed]",
      "text/plain": [
       "<Figure size 432x288 with 1 Axes>"
      ]
     },
     "metadata": {
      "needs_background": "light"
     },
     "output_type": "display_data"
    }
   ],
   "source": [
    "plt.scatter(y_train,y_tr_pred)\n",
    "#Set to 20, because maximum score for y is 20\n",
    "plt.plot([0, 20],[0, 20],'r')\n",
    "plt.xlabel('Actual')\n",
    "plt.ylabel('Predicted')\n",
    "plt.grid()"
   ]
  },
  {
   "cell_type": "markdown",
   "metadata": {},
   "source": [
    "# Validating over the testing set"
   ]
  },
  {
   "cell_type": "code",
   "execution_count": 64,
   "metadata": {},
   "outputs": [
    {
     "name": "stdout",
     "output_type": "stream",
     "text": [
      "RSS = 1809.402643\n",
      "Ein = 6.959241\n",
      "RMSE = 2.638037\n",
      "R^2 = 0.296432\n"
     ]
    }
   ],
   "source": [
    "y_test_pred = regr.predict(X_test)\n",
    "y_tr_pred = regr.predict(X_train)\n",
    "RSS = np.sum((y_test_pred-y_test)**2)\n",
    "TSS = np.sum((y_test - np.mean(y_test))**2)\n",
    "print(\"RSS = {0:f}\".format(RSS))\n",
    "print(\"Ein = {0:f}\".format(RSS/n_test))\n",
    "print(\"RMSE = {0:f}\".format(np.sqrt(RSS/n_test)))\n",
    "print(\"R^2 = {0:f}\".format(1-RSS/TSS))"
   ]
  },
  {
   "cell_type": "code",
   "execution_count": 65,
   "metadata": {},
   "outputs": [
    {
     "data": {
      "image/png": "[encoded data removed]",
      "text/plain": [
       "<Figure size 432x288 with 1 Axes>"
      ]
     },
     "metadata": {
      "needs_background": "light"
     },
     "output_type": "display_data"
    }
   ],
   "source": [
    "plt.scatter(y_test,y_test_pred)\n",
    "plt.plot([0,20],[0,20],'r')\n",
    "plt.xlabel('Actual')\n",
    "plt.xlabel('Predicted')\n",
    "plt.grid()"
   ]
  },
  {
   "cell_type": "markdown",
   "metadata": {},
   "source": [
    "# Multiple Linear regression with regularization "
   ]
  },
  {
   "cell_type": "code",
   "execution_count": 91,
   "metadata": {},
   "outputs": [],
   "source": [
    "def gradient_descent_ridge(X_1, y_2d, learning_rate, w, N, num_iters, lamda):\n",
    "    # Gradient descent on ridge regression\n",
    "    #Closed form solution = (X.T * X + N*lamda*Idenitiy).inverse (X.T*y)\n",
    "    identity = np.identity(w.shape[0])\n",
    "    identity[0,0] = 0\n",
    "    for i in range(num_iters): \n",
    "        first = np.linalg.inv(np.dot(X_1.T, X_1) + N*lamda*identity)\n",
    "        second = np.dot(X_1.T, y_2d)\n",
    "        ridge = np.dot(first,second)\n",
    "        w = ridge\n",
    "       \n",
    "        \n",
    "        if(i % 100 == 0):\n",
    "            # In place of ellipsis, call the cost you just coded above\n",
    "            cost = compute_cost(X_1, y_2d, w, N)\n",
    "            # You can uncomment print statements below to see how cost changes, \n",
    "            # but please make sure you put prints in comments before submission\n",
    "            #print(\"Cost\")\n",
    "            #print(cost)\n",
    "             \n",
    "    return w "
   ]
  },
  {
   "cell_type": "code",
   "execution_count": 92,
   "metadata": {},
   "outputs": [
    {
     "name": "stdout",
     "output_type": "stream",
     "text": [
      "[[11.95898006]\n",
      " [ 0.51085191]\n",
      " [ 0.39910249]\n",
      " [ 0.11376903]\n",
      " [ 0.15943674]\n",
      " [ 0.24629481]\n",
      " [ 0.13420288]\n",
      " [ 0.20750389]\n",
      " [ 0.27224265]\n",
      " [-0.02979643]\n",
      " [ 0.33101915]\n",
      " [-0.78529927]\n",
      " [-0.36823812]\n",
      " [-0.03093354]\n",
      " [-0.12100815]\n",
      " [ 0.14887651]\n",
      " [-0.14965393]\n",
      " [ 0.37536761]\n",
      " [ 0.15157654]\n",
      " [-0.15346735]\n",
      " [ 0.12592701]\n",
      " [-0.29559607]\n",
      " [-0.03073108]\n",
      " [-0.10021569]\n",
      " [-0.13938994]\n",
      " [-0.30687335]\n",
      " [-0.1860057 ]]\n",
      "g[0]:  11.958980063270518\n"
     ]
    }
   ],
   "source": [
    "w_testcase = np.zeros((X_1_train.shape[1],1))\n",
    "g = gradient_descent_ridge(X_1_train, y_2d_train, 0.0049, w_testcase, n_train, 1000, 0.1)\n",
    "print(g)\n",
    "print(\"g[0]: \", g[0][0])"
   ]
  },
  {
   "cell_type": "markdown",
   "metadata": {},
   "source": [
    "# As shown above the values that we get with gradient is different from what sklearn gave us. The num_iters and alpha, should be contributing to this."
   ]
  },
  {
   "cell_type": "markdown",
   "metadata": {},
   "source": [
    "# Neutral Network\n",
    "## some of these code are taken from hw6 as I deemed them essential "
   ]
  },
  {
   "cell_type": "code",
   "execution_count": 24,
   "metadata": {},
   "outputs": [],
   "source": [
    "#Code copied from hw6, but edited to match our y values\n",
    "def convert_y_to_vect(y):\n",
    "    y_vect = np.zeros((len(y), 20))\n",
    "    for i in range(len(y)):\n",
    "        y_vect[i, y[i]] = 1\n",
    "    return y_vect"
   ]
  },
  {
   "cell_type": "code",
   "execution_count": 25,
   "metadata": {},
   "outputs": [
    {
     "name": "stdout",
     "output_type": "stream",
     "text": [
      "Testing training set shape:  (389, 20)\n",
      "Testing testing set shape:  (260, 20)\n"
     ]
    }
   ],
   "source": [
    "y_v_train = convert_y_to_vect(y_train)\n",
    "y_v_test = convert_y_to_vect(y_test)\n",
    "print(\"Testing training set shape: \",y_v_train.shape)\n",
    "print(\"Testing testing set shape: \",y_v_test.shape)"
   ]
  },
  {
   "cell_type": "code",
   "execution_count": 26,
   "metadata": {},
   "outputs": [],
   "source": [
    "# Sigmoid activation function - depends on whether we want to use it or not\n",
    "def f(z):\n",
    "    return 1 / (1 + np.exp(-z))\n",
    "\n",
    "\n",
    "def f_deriv(z):\n",
    "    return f(z) * (1 - f(z))"
   ]
  },
  {
   "cell_type": "code",
   "execution_count": 27,
   "metadata": {},
   "outputs": [],
   "source": [
    "def calculate_out_layer_delta(y, a_out, z_out):\n",
    "    # delta^(nl) = -(y_i - a_i^(nl)) * f'(z_i^(nl))\n",
    "    return -(y-a_out) * f_deriv(z_out) \n",
    "\n",
    "\n",
    "def calculate_hidden_delta(delta_plus_1, w_l, z_l):\n",
    "    # delta^(l) = (transpose(W^(l)) * delta^(l+1)) * f'(z^(l))\n",
    "    return np.dot(np.transpose(w_l), delta_plus_1) * f_deriv(z_l)"
   ]
  },
  {
   "cell_type": "code",
   "execution_count": null,
   "metadata": {},
   "outputs": [],
   "source": []
  },
  {
   "cell_type": "code",
   "execution_count": null,
   "metadata": {},
   "outputs": [],
   "source": []
  }
 ],
 "metadata": {
  "kernelspec": {
   "display_name": "Python 3",
   "language": "python",
   "name": "python3"
  },
  "language_info": {
   "codemirror_mode": {
    "name": "ipython",
    "version": 3
   },
   "file_extension": ".py",
   "mimetype": "text/x-python",
   "name": "python",
   "nbconvert_exporter": "python",
   "pygments_lexer": "ipython3",
   "version": "3.8.5"
  }
 },
 "nbformat": 4,
 "nbformat_minor": 4
}
