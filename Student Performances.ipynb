{
 "cells": [
  {
   "cell_type": "markdown",
   "metadata": {},
   "source": [
    "# STUDENT PERFORMANCES\n",
    "## Machine Learning project\n",
    "## Team: Amadou and Jamie\n",
    "\n",
    "* Analysis of student performances\n",
    "* Features: 33 \n",
    "* Data: 649\n",
    "\n",
    "There are 2 different csv files in the data folder. One (student-port.csv) being the data set of the students that took the portugese language course and another (student-mat.csv) of the students that are taking the math course. There are 382 students that are taking both courses. \n",
    "\n",
    "More information about the dataset is in the data folder, labeled student.txt"
   ]
  },
  {
   "cell_type": "code",
   "execution_count": 1,
   "metadata": {},
   "outputs": [],
   "source": [
    "# Importing the libraries to be used:\n",
    "import numpy as np\n",
    "import pandas as pd\n",
    "from sklearn import linear_model, preprocessing\n",
    "import matplotlib.pyplot as plt\n",
    "%matplotlib inline \n",
    "\n",
    "from sklearn.preprocessing import StandardScaler  # It is important in neural networks to scale the date\n",
    "from sklearn.model_selection import train_test_split  # The standard - train/test to prevent overfitting and choose hyperparameters\n",
    "from sklearn.metrics import accuracy_score # \n",
    "import matplotlib.pyplot as plt "
   ]
  },
  {
   "cell_type": "code",
   "execution_count": 2,
   "metadata": {
    "scrolled": true
   },
   "outputs": [
    {
     "name": "stdout",
     "output_type": "stream",
     "text": [
      "    school sex  age address famsize Pstatus  Medu  Fedu      Mjob      Fjob  \\\n",
      "0       GP   F   18       U     GT3       A     4     4   at_home   teacher   \n",
      "1       GP   F   17       U     GT3       T     1     1   at_home     other   \n",
      "2       GP   F   15       U     LE3       T     1     1   at_home     other   \n",
      "3       GP   F   15       U     GT3       T     4     2    health  services   \n",
      "4       GP   F   16       U     GT3       T     3     3     other     other   \n",
      "..     ...  ..  ...     ...     ...     ...   ...   ...       ...       ...   \n",
      "644     MS   F   19       R     GT3       T     2     3  services     other   \n",
      "645     MS   F   18       U     LE3       T     3     1   teacher  services   \n",
      "646     MS   F   18       U     GT3       T     1     1     other     other   \n",
      "647     MS   M   17       U     LE3       T     3     1  services  services   \n",
      "648     MS   M   18       R     LE3       T     3     2  services     other   \n",
      "\n",
      "     ... famrel freetime  goout  Dalc  Walc health absences  G1  G2  G3  \n",
      "0    ...      4        3      4     1     1      3        4   0  11  11  \n",
      "1    ...      5        3      3     1     1      3        2   9  11  11  \n",
      "2    ...      4        3      2     2     3      3        6  12  13  12  \n",
      "3    ...      3        2      2     1     1      5        0  14  14  14  \n",
      "4    ...      4        3      2     1     2      5        0  11  13  13  \n",
      "..   ...    ...      ...    ...   ...   ...    ...      ...  ..  ..  ..  \n",
      "644  ...      5        4      2     1     2      5        4  10  11  10  \n",
      "645  ...      4        3      4     1     1      1        4  15  15  16  \n",
      "646  ...      1        1      1     1     1      5        6  11  12   9  \n",
      "647  ...      2        4      5     3     4      2        6  10  10  10  \n",
      "648  ...      4        4      1     3     4      5        4  10  11  11  \n",
      "\n",
      "[649 rows x 33 columns]\n"
     ]
    }
   ],
   "source": [
    "df1 = pd.read_csv(\"data\\student-por.csv\",sep=\";\") #read file from different directory\n",
    "df2 = pd.read_csv(\"data\\student-mat.csv\", sep = \";\")\n",
    "print(df1)\n",
    "#df1.to_csv(\"port.csv\") # made in to a csv after being made in to a table - easier to read compared to original excel file\n"
   ]
  },
  {
   "cell_type": "code",
   "execution_count": 3,
   "metadata": {},
   "outputs": [
    {
     "data": {
      "text/html": [
       "<div>\n",
       "<style scoped>\n",
       "    .dataframe tbody tr th:only-of-type {\n",
       "        vertical-align: middle;\n",
       "    }\n",
       "\n",
       "    .dataframe tbody tr th {\n",
       "        vertical-align: top;\n",
       "    }\n",
       "\n",
       "    .dataframe thead th {\n",
       "        text-align: right;\n",
       "    }\n",
       "</style>\n",
       "<table border=\"1\" class=\"dataframe\">\n",
       "  <thead>\n",
       "    <tr style=\"text-align: right;\">\n",
       "      <th></th>\n",
       "      <th>G3</th>\n",
       "    </tr>\n",
       "  </thead>\n",
       "  <tbody>\n",
       "    <tr>\n",
       "      <th>0</th>\n",
       "      <td>11</td>\n",
       "    </tr>\n",
       "    <tr>\n",
       "      <th>1</th>\n",
       "      <td>11</td>\n",
       "    </tr>\n",
       "    <tr>\n",
       "      <th>2</th>\n",
       "      <td>12</td>\n",
       "    </tr>\n",
       "    <tr>\n",
       "      <th>3</th>\n",
       "      <td>14</td>\n",
       "    </tr>\n",
       "    <tr>\n",
       "      <th>4</th>\n",
       "      <td>13</td>\n",
       "    </tr>\n",
       "    <tr>\n",
       "      <th>...</th>\n",
       "      <td>...</td>\n",
       "    </tr>\n",
       "    <tr>\n",
       "      <th>644</th>\n",
       "      <td>10</td>\n",
       "    </tr>\n",
       "    <tr>\n",
       "      <th>645</th>\n",
       "      <td>16</td>\n",
       "    </tr>\n",
       "    <tr>\n",
       "      <th>646</th>\n",
       "      <td>9</td>\n",
       "    </tr>\n",
       "    <tr>\n",
       "      <th>647</th>\n",
       "      <td>10</td>\n",
       "    </tr>\n",
       "    <tr>\n",
       "      <th>648</th>\n",
       "      <td>11</td>\n",
       "    </tr>\n",
       "  </tbody>\n",
       "</table>\n",
       "<p>649 rows × 1 columns</p>\n",
       "</div>"
      ],
      "text/plain": [
       "     G3\n",
       "0    11\n",
       "1    11\n",
       "2    12\n",
       "3    14\n",
       "4    13\n",
       "..   ..\n",
       "644  10\n",
       "645  16\n",
       "646   9\n",
       "647  10\n",
       "648  11\n",
       "\n",
       "[649 rows x 1 columns]"
      ]
     },
     "execution_count": 3,
     "metadata": {},
     "output_type": "execute_result"
    }
   ],
   "source": [
    "#Splitting the data accordingly\n",
    "X = df1.iloc[:, :30]\n",
    "y = df1.iloc[:, 32:]\n",
    "X.dropna()\n",
    "y.dropna()"
   ]
  },
  {
   "cell_type": "markdown",
   "metadata": {},
   "source": [
    "## Converting the specific features to binary to make it easier to work with\n",
    "### school:  GP = 1 , MS = 0\n",
    "### sex:  F = 1, M = 0\n",
    "### address: U(urban) = 1, R(rural) = 0\n",
    "### family size:  LE3 = 1, GT3 = 0\n",
    "### pstatus: T(living together) = 1, A(living apart) = 0"
   ]
  },
  {
   "cell_type": "code",
   "execution_count": 30,
   "metadata": {},
   "outputs": [],
   "source": [
    "def fixingfile(X):\n",
    "    switch = {0: (\"GP\", \"MS\"), 1: (\"F\", \"M\"), 3: (\"U\", \"R\"), 4: (\"LE3\", \"GT3\"), 5:(\"T\", \"A\"), 15:(\"yes\",\"no\"), 16:(\"yes\",\"no\"),\n",
    "             17:(\"yes\",\"no\"), 18:(\"yes\",\"no\"), 19:(\"yes\",\"no\"), 20:(\"yes\",\"no\"), 21:(\"yes\",\"no\"), 22:(\"yes\",\"no\")}\n",
    "    #ignore = [\"age\", \"Medu\", \"Fedu\",\"Mjob\", \"Fjob\", 'reason', 'guardian','traveltime', 'studytime',\n",
    "    #       'failures']\n",
    "    #print(X.columns)\n",
    "    #print(X.iloc[0,:])\n",
    "    for column in range(len(X.columns)):\n",
    "        if column not in switch:\n",
    "            continue\n",
    "        for i in range(len(X.iloc[:,column])):\n",
    "           #print(X.iloc[i, column] == \"U\",X.iloc[i, column], switch[column])\n",
    "            if X.iloc[i,column] == switch[column][0]:\n",
    "                #print(X.iloc[i, column], switch[column][0])\n",
    "                X.iloc[i,column] = 1\n",
    "            elif X.iloc[i, column] == switch[column][1]:\n",
    "                X.iloc[i,column] = 0\n",
    "    X.drop([\"Mjob\", \"Fjob\", \"reason\", \"guardian\"], axis = 1, inplace=True) #Remove the ones with more than 1 and 0 answers\n",
    "    print(X.shape)\n",
    "    return X\n"
   ]
  },
  {
   "cell_type": "code",
   "execution_count": 31,
   "metadata": {},
   "outputs": [
    {
     "ename": "AttributeError",
     "evalue": "'numpy.ndarray' object has no attribute 'columns'",
     "output_type": "error",
     "traceback": [
      "\u001b[1;31m---------------------------------------------------------------------------\u001b[0m",
      "\u001b[1;31mAttributeError\u001b[0m                            Traceback (most recent call last)",
      "\u001b[1;32m<ipython-input-31-71ac1eadad5c>\u001b[0m in \u001b[0;36m<module>\u001b[1;34m\u001b[0m\n\u001b[1;32m----> 1\u001b[1;33m \u001b[0mX_fixed\u001b[0m \u001b[1;33m=\u001b[0m \u001b[0mfixingfile\u001b[0m\u001b[1;33m(\u001b[0m\u001b[0mX\u001b[0m\u001b[1;33m)\u001b[0m\u001b[1;33m\u001b[0m\u001b[1;33m\u001b[0m\u001b[0m\n\u001b[0m\u001b[0;32m      2\u001b[0m \u001b[0mX_fixed\u001b[0m\u001b[1;33m.\u001b[0m\u001b[0mto_csv\u001b[0m\u001b[1;33m(\u001b[0m\u001b[1;34m\"dataManipulation.csv\"\u001b[0m\u001b[1;33m)\u001b[0m\u001b[1;33m\u001b[0m\u001b[1;33m\u001b[0m\u001b[0m\n\u001b[0;32m      3\u001b[0m \u001b[0my\u001b[0m \u001b[1;33m=\u001b[0m \u001b[0mnp\u001b[0m\u001b[1;33m.\u001b[0m\u001b[0marray\u001b[0m\u001b[1;33m(\u001b[0m\u001b[0my\u001b[0m\u001b[1;33m)\u001b[0m \u001b[1;31m#changed to array to be easier to work with\u001b[0m\u001b[1;33m\u001b[0m\u001b[1;33m\u001b[0m\u001b[0m\n\u001b[0;32m      4\u001b[0m \u001b[0mX\u001b[0m \u001b[1;33m=\u001b[0m \u001b[0mnp\u001b[0m\u001b[1;33m.\u001b[0m\u001b[0marray\u001b[0m\u001b[1;33m(\u001b[0m\u001b[0mX_fixed\u001b[0m\u001b[1;33m)\u001b[0m\u001b[1;33m\u001b[0m\u001b[1;33m\u001b[0m\u001b[0m\n",
      "\u001b[1;32m<ipython-input-30-8847c1210795>\u001b[0m in \u001b[0;36mfixingfile\u001b[1;34m(X)\u001b[0m\n\u001b[0;32m      6\u001b[0m     \u001b[1;31m#print(X.columns)\u001b[0m\u001b[1;33m\u001b[0m\u001b[1;33m\u001b[0m\u001b[1;33m\u001b[0m\u001b[0m\n\u001b[0;32m      7\u001b[0m     \u001b[1;31m#print(X.iloc[0,:])\u001b[0m\u001b[1;33m\u001b[0m\u001b[1;33m\u001b[0m\u001b[1;33m\u001b[0m\u001b[0m\n\u001b[1;32m----> 8\u001b[1;33m     \u001b[1;32mfor\u001b[0m \u001b[0mcolumn\u001b[0m \u001b[1;32min\u001b[0m \u001b[0mrange\u001b[0m\u001b[1;33m(\u001b[0m\u001b[0mlen\u001b[0m\u001b[1;33m(\u001b[0m\u001b[0mX\u001b[0m\u001b[1;33m.\u001b[0m\u001b[0mcolumns\u001b[0m\u001b[1;33m)\u001b[0m\u001b[1;33m)\u001b[0m\u001b[1;33m:\u001b[0m\u001b[1;33m\u001b[0m\u001b[1;33m\u001b[0m\u001b[0m\n\u001b[0m\u001b[0;32m      9\u001b[0m         \u001b[1;32mif\u001b[0m \u001b[0mcolumn\u001b[0m \u001b[1;32mnot\u001b[0m \u001b[1;32min\u001b[0m \u001b[0mswitch\u001b[0m\u001b[1;33m:\u001b[0m\u001b[1;33m\u001b[0m\u001b[1;33m\u001b[0m\u001b[0m\n\u001b[0;32m     10\u001b[0m             \u001b[1;32mcontinue\u001b[0m\u001b[1;33m\u001b[0m\u001b[1;33m\u001b[0m\u001b[0m\n",
      "\u001b[1;31mAttributeError\u001b[0m: 'numpy.ndarray' object has no attribute 'columns'"
     ]
    }
   ],
   "source": [
    "X_fixed = fixingfile(X)\n",
    "X_fixed.to_csv(\"dataManipulation.csv\")\n",
    "y = np.array(y) #changed to array to be easier to work with\n",
    "X = np.array(X_fixed)"
   ]
  },
  {
   "cell_type": "code",
   "execution_count": 6,
   "metadata": {},
   "outputs": [],
   "source": [
    "X_scale = StandardScaler()\n",
    "X = np.array(X_scale.fit_transform(X))"
   ]
  },
  {
   "cell_type": "code",
   "execution_count": 7,
   "metadata": {},
   "outputs": [],
   "source": [
    "#Split the data into training and test set.  60% training and %40 test\n",
    "X_train, X_test, y_train, y_test = train_test_split(X, y, test_size=0.4)"
   ]
  },
  {
   "cell_type": "markdown",
   "metadata": {},
   "source": [
    "# FROM here on out the markdown split up which model. Add cells according to which mark down. Here is the order\n",
    "## 1. Multiple Linear Regression\n",
    "## 2. Neutral Network \n",
    "## 3. SVM"
   ]
  },
  {
   "cell_type": "markdown",
   "metadata": {},
   "source": [
    "# 1. Multiple Linear Regression"
   ]
  },
  {
   "cell_type": "code",
   "execution_count": 8,
   "metadata": {},
   "outputs": [
    {
     "name": "stdout",
     "output_type": "stream",
     "text": [
      "Checking y_2d_train is in 2d: (389, 1)\n",
      "Checking y_2d_test is in 2d: (260, 1)\n"
     ]
    }
   ],
   "source": [
    "#reshaping ys to 2d\n",
    "y_2d_train = y_train.reshape(y_train.shape[0], 1)\n",
    "y_2d_test = y_test.reshape(y_test.shape[0],1)\n",
    "print(\"Checking y_2d_train is in 2d:\", y_2d_train.shape)\n",
    "print(\"Checking y_2d_test is in 2d:\", y_2d_test.shape)"
   ]
  },
  {
   "cell_type": "code",
   "execution_count": 9,
   "metadata": {},
   "outputs": [
    {
     "name": "stdout",
     "output_type": "stream",
     "text": [
      "Number training of rows: 389\n",
      "Number testing of rows: 260\n"
     ]
    }
   ],
   "source": [
    "n_train = y_2d_train.shape[0]\n",
    "n_test = y_2d_test.shape[0]\n",
    "print(\"Number training of rows:\", n_train)\n",
    "print(\"Number testing of rows:\", n_test)"
   ]
  },
  {
   "cell_type": "code",
   "execution_count": 10,
   "metadata": {},
   "outputs": [
    {
     "name": "stdout",
     "output_type": "stream",
     "text": [
      "X_1 shape: (389, 27)\n",
      "X_1 with ones:  [[ 1.         -1.36809408  0.83337685 ...  0.56067799 -0.3710422\n",
      "  -0.35786305]\n",
      " [ 1.         -1.36809408  0.83337685 ...  2.11905063  1.01290255\n",
      "  -0.78915946]\n",
      " [ 1.          0.73094388  0.83337685 ... -0.21850834 -1.06301457\n",
      "  -0.78915946]\n",
      " ...\n",
      " [ 1.         -1.36809408  0.83337685 ... -0.21850834 -1.75498694\n",
      "  -0.57351125]\n",
      " [ 1.          0.73094388 -1.19993734 ... -0.99769466 -0.3710422\n",
      "   1.36732259]\n",
      " [ 1.         -1.36809408  0.83337685 ... -0.99769466 -0.3710422\n",
      "  -0.35786305]]\n"
     ]
    }
   ],
   "source": [
    "# Adding the column of ones infront of x_train\n",
    "ones_train = np.ones((n_train, 1))\n",
    "X_1_train = np.hstack((ones_train, X_train))\n",
    "print(\"X_1 shape:\", X_1_train.shape)\n",
    "print(\"X_1 with ones: \", X_1_train)"
   ]
  },
  {
   "cell_type": "code",
   "execution_count": 11,
   "metadata": {},
   "outputs": [
    {
     "name": "stdout",
     "output_type": "stream",
     "text": [
      "X_1_test shape: (260, 27)\n",
      "X_1_test with ones:  [[ 1.          0.73094388 -1.19993734 ...  0.56067799 -1.06301457\n",
      "  -0.78915946]\n",
      " [ 1.          0.73094388  0.83337685 ...  0.56067799  0.32093018\n",
      "  -0.35786305]\n",
      " [ 1.          0.73094388  0.83337685 ... -0.99769466  1.01290255\n",
      "   0.50472977]\n",
      " ...\n",
      " [ 1.         -1.36809408  0.83337685 ... -0.21850834 -0.3710422\n",
      "   0.28908157]\n",
      " [ 1.         -1.36809408  0.83337685 ... -0.21850834 -1.06301457\n",
      "   0.07343336]\n",
      " [ 1.          0.73094388 -1.19993734 ... -0.21850834 -1.75498694\n",
      "   4.81769388]]\n"
     ]
    }
   ],
   "source": [
    "#Adding ones to testing set\n",
    "ones_test = np.ones((n_test, 1))\n",
    "X_1_test = np.hstack((ones_test, X_test))\n",
    "print(\"X_1_test shape:\", X_1_test.shape)\n",
    "print(\"X_1_test with ones: \", X_1_test)"
   ]
  },
  {
   "cell_type": "markdown",
   "metadata": {},
   "source": [
    "# Doing multiple linear regression with gradient and manually calculating without library"
   ]
  },
  {
   "cell_type": "code",
   "execution_count": 12,
   "metadata": {},
   "outputs": [],
   "source": [
    "def compute_cost(X_1, y_2d, w, N):\n",
    "    # Write your code in place of ellipsis. Cost can be calculated using a single line of code.\n",
    "    # Remember w is a vector here.\n",
    "    \n",
    "    # TODO Q07 - Taken from hw\n",
    "    # Write the cost function\n",
    "    #ISSUES: X AND Y ARE NOW 2D ARRAYS\n",
    "    cost = sum((y_2d- (np.dot(X_1, w)))**2)/(2*N)\n",
    "    \n",
    "    return cost[0]"
   ]
  },
  {
   "cell_type": "code",
   "execution_count": 13,
   "metadata": {},
   "outputs": [],
   "source": [
    "def gradient_descent(X_1, y_2d, learning_rate, w, N, num_iters):\n",
    "    # In place of ellipsis, write the updated value of w0 in temp0 and of w1 in temp1\n",
    "    # TODO Q08\n",
    "    # Finish the gradient descent function\n",
    "    \n",
    "    for i in range(num_iters):\n",
    "        # derivative vector is given by : X_train.Transpose *  (( X_train * w)- y ) \n",
    "        slope = np.dot(X_1, w)\n",
    "        der_vector = np.dot(X_1.T,(slope - y_2d))\n",
    "        w = w - (learning_rate * (1/N)) * der_vector\n",
    "       \n",
    "        \n",
    "        if(i % 100 == 0):\n",
    "            # In place of ellipsis, call the cost you just coded above\n",
    "            cost = compute_cost(X_1, y_2d, w, N)\n",
    "            # You can uncomment print statements below to see how cost changes, \n",
    "            # but please make sure you put prints in comments before submission\n",
    "            #print(\"Cost\")\n",
    "            #print(cost)\n",
    "             \n",
    "    return w "
   ]
  },
  {
   "cell_type": "code",
   "execution_count": 14,
   "metadata": {},
   "outputs": [
    {
     "name": "stdout",
     "output_type": "stream",
     "text": [
      "g[0]:  11.786575353511916\n"
     ]
    }
   ],
   "source": [
    "w_testcase = np.zeros((X_1_train.shape[1],1))\n",
    "g = gradient_descent(X_1_train, y_2d_train, 0.0049, w_testcase, n_train, 1000)\n",
    "#print(g)\n",
    "print(\"g[0]: \", g[0][0])"
   ]
  },
  {
   "cell_type": "code",
   "execution_count": 15,
   "metadata": {},
   "outputs": [],
   "source": [
    "def multiple_linear_reg_model_gda(X_1, y_2d, learning_rate, N, num_iters):\n",
    "    #initialize the values of parameter vector w. It should be a column vector of zeros of dimension(d+1,1)\n",
    "    # TODO 09 \n",
    "    # Complete the function\n",
    "    w = np.zeros((X_1.shape[1],1))\n",
    "    \n",
    "    # Calculate the initial cost by calling the function you coded above.\n",
    "    initial_cost = compute_cost(X_1, y_2d, w, N)\n",
    "    \n",
    "    # Calculate the optimized value of gradients by calling the gradient_descent function coded above\n",
    "    w = gradient_descent(X_1, y_2d, learning_rate, w, N, num_iters)\n",
    "    \n",
    "    # Calculate the cost with the optimized value of w0 and w1 by calling the cost function.\n",
    "    final_cost = compute_cost(X_1, y_2d, w, N)\n",
    "\n",
    "    return w, initial_cost, final_cost"
   ]
  },
  {
   "cell_type": "code",
   "execution_count": 16,
   "metadata": {},
   "outputs": [
    {
     "name": "stdout",
     "output_type": "stream",
     "text": [
      "**************************************************\n",
      "10\n",
      "Iter is: 10 Alpha is: 0.01\n",
      "\n",
      "initial cost:  76.84704370179949 \n",
      "final cost:  62.96672519073104\n",
      "RSS: 48988.11219838875 TSS: 4273.866323907456\n",
      "-10.462247175199558\n",
      "--------------------------------------------------\n",
      "Iter is: 10 Alpha is: 0.05\n",
      "\n",
      "initial cost:  76.84704370179949 \n",
      "final cost:  29.04677245838885\n",
      "RSS: 22598.388972626526 TSS: 4273.866323907456\n",
      "-4.287575057323169\n",
      "--------------------------------------------------\n",
      "Iter is: 10 Alpha is: 0.001\n",
      "\n",
      "initial cost:  76.84704370179949 \n",
      "final cost:  75.32461380799975\n",
      "RSS: 58602.549542623805 TSS: 4273.866323907456\n",
      "-12.711834929138686\n",
      "--------------------------------------------------\n",
      "Iter is: 10 Alpha is: 0.0049\n",
      "\n",
      "initial cost:  76.84704370179949 \n",
      "final cost:  69.68299884233886\n",
      "RSS: 54213.37309933964 TSS: 4273.866323907456\n",
      "-11.684854646968493\n",
      "--------------------------------------------------\n",
      "Iter is: 10 Alpha is: 0.005\n",
      "\n",
      "initial cost:  76.84704370179949 \n",
      "final cost:  69.54431309895087\n",
      "RSS: 54105.47559098378 TSS: 4273.866323907456\n",
      "-11.659608768838824\n",
      "--------------------------------------------------\n",
      "Iter is: 10 Alpha is: 0.0001\n",
      "\n",
      "initial cost:  76.84704370179949 \n",
      "final cost:  76.69335797275066\n",
      "RSS: 59667.43250280001 TSS: 4273.866323907456\n",
      "-12.96099643290856\n",
      "--------------------------------------------------\n",
      "Iter is: 10 Alpha is: 0.0005\n",
      "\n",
      "initial cost:  76.84704370179949 \n",
      "final cost:  76.08183288058157\n",
      "RSS: 59191.66598109247 TSS: 4273.866323907456\n",
      "-12.849676497831002\n",
      "--------------------------------------------------\n",
      "Iter is: 10 Alpha is: 0.0001\n",
      "\n",
      "initial cost:  76.84704370179949 \n",
      "final cost:  76.69335797275066\n",
      "RSS: 59667.43250280001 TSS: 4273.866323907456\n",
      "-12.96099643290856\n",
      "--------------------------------------------------\n",
      "**************************************************\n",
      "**************************************************\n",
      "100\n",
      "Iter is: 100 Alpha is: 0.01\n",
      "\n",
      "initial cost:  76.84704370179949 \n",
      "final cost:  13.046012574891133\n",
      "RSS: 10149.797783265301 TSS: 4273.866323907456\n",
      "-1.374851484354727\n",
      "--------------------------------------------------\n",
      "Iter is: 100 Alpha is: 0.05\n",
      "\n",
      "initial cost:  76.84704370179949 \n",
      "final cost:  3.5199423919648822\n",
      "RSS: 2738.5151809486783 TSS: 4273.866323907456\n",
      "0.3592417325666508\n",
      "--------------------------------------------------\n",
      "Iter is: 100 Alpha is: 0.001\n",
      "\n",
      "initial cost:  76.84704370179949 \n",
      "final cost:  63.02745336504459\n",
      "RSS: 49035.358718004696 TSS: 4273.866323907456\n",
      "-10.473301924233624\n",
      "--------------------------------------------------\n",
      "Iter is: 100 Alpha is: 0.0049\n",
      "\n",
      "initial cost:  76.84704370179949 \n",
      "final cost:  30.218278873090778\n",
      "RSS: 23509.820963264625 TSS: 4273.866323907456\n",
      "-4.500832076041715\n",
      "--------------------------------------------------\n",
      "Iter is: 100 Alpha is: 0.005\n",
      "\n",
      "initial cost:  76.84704370179949 \n",
      "final cost:  29.680119157386795\n",
      "RSS: 23091.132704446925 TSS: 4273.866323907456\n",
      "-4.402867323032102\n",
      "--------------------------------------------------\n",
      "Iter is: 100 Alpha is: 0.0001\n",
      "\n",
      "initial cost:  76.84704370179949 \n",
      "final cost:  75.32536149695649\n",
      "RSS: 58603.13124463215 TSS: 4273.866323907456\n",
      "-12.711971035877704\n",
      "--------------------------------------------------\n",
      "Iter is: 100 Alpha is: 0.0005\n",
      "\n",
      "initial cost:  76.84704370179949 \n",
      "final cost:  69.56134187190074\n",
      "RSS: 54118.72397633877 TSS: 4273.866323907456\n",
      "-11.662708628392428\n",
      "--------------------------------------------------\n",
      "Iter is: 100 Alpha is: 0.0001\n",
      "\n",
      "initial cost:  76.84704370179949 \n",
      "final cost:  75.32536149695649\n",
      "RSS: 58603.13124463215 TSS: 4273.866323907456\n",
      "-12.711971035877704\n",
      "--------------------------------------------------\n",
      "**************************************************\n",
      "**************************************************\n",
      "1000\n",
      "Iter is: 1000 Alpha is: 0.01\n",
      "\n",
      "initial cost:  76.84704370179949 \n",
      "final cost:  3.512642882917283\n",
      "RSS: 2732.8361629096453 TSS: 4273.866323907456\n",
      "0.36057051021401554\n",
      "--------------------------------------------------\n",
      "Iter is: 1000 Alpha is: 0.05\n",
      "\n",
      "initial cost:  76.84704370179949 \n",
      "final cost:  3.512553820073217\n",
      "RSS: 2732.7668720169636 TSS: 4273.866323907456\n",
      "0.3605867229093669\n",
      "--------------------------------------------------\n",
      "Iter is: 1000 Alpha is: 0.001\n",
      "\n",
      "initial cost:  76.84704370179949 \n",
      "final cost:  13.13314024778532\n",
      "RSS: 10217.58311277698 TSS: 4273.866323907456\n",
      "-1.3907119077686496\n",
      "--------------------------------------------------\n",
      "Iter is: 1000 Alpha is: 0.0049\n",
      "\n",
      "initial cost:  76.84704370179949 \n",
      "final cost:  3.522150967956945\n",
      "RSS: 2740.2334530705034 TSS: 4273.866323907456\n",
      "0.35883969095102675\n",
      "--------------------------------------------------\n",
      "Iter is: 1000 Alpha is: 0.005\n",
      "\n",
      "initial cost:  76.84704370179949 \n",
      "final cost:  3.520903009596151\n",
      "RSS: 2739.2625414658055 TSS: 4273.866323907456\n",
      "0.35906686502038565\n",
      "--------------------------------------------------\n",
      "Iter is: 1000 Alpha is: 0.0001\n",
      "\n",
      "initial cost:  76.84704370179949 \n",
      "final cost:  63.03348387396052\n",
      "RSS: 49040.05045394129 TSS: 4273.866323907456\n",
      "-10.474399697439665\n",
      "--------------------------------------------------\n",
      "Iter is: 1000 Alpha is: 0.0005\n",
      "\n",
      "initial cost:  76.84704370179949 \n",
      "final cost:  29.74216461814455\n",
      "RSS: 23139.40407291646 TSS: 4273.866323907456\n",
      "-4.414161866382583\n",
      "--------------------------------------------------\n",
      "Iter is: 1000 Alpha is: 0.0001\n",
      "\n",
      "initial cost:  76.84704370179949 \n",
      "final cost:  63.03348387396052\n",
      "RSS: 49040.05045394129 TSS: 4273.866323907456\n",
      "-10.474399697439665\n",
      "--------------------------------------------------\n",
      "**************************************************\n",
      "**************************************************\n",
      "10000\n",
      "Iter is: 10000 Alpha is: 0.01\n",
      "\n",
      "initial cost:  76.84704370179949 \n",
      "final cost:  3.512553820073213\n",
      "RSS: 2732.7668720169595 TSS: 4273.866323907456\n",
      "0.3605867229093679\n",
      "--------------------------------------------------\n",
      "Iter is: 10000 Alpha is: 0.05\n",
      "\n",
      "initial cost:  76.84704370179949 \n",
      "final cost:  3.512553820073213\n",
      "RSS: 2732.766872016959 TSS: 4273.866323907456\n",
      "0.360586722909368\n",
      "--------------------------------------------------\n",
      "Iter is: 10000 Alpha is: 0.001\n",
      "\n",
      "initial cost:  76.84704370179949 \n",
      "final cost:  3.512643897753575\n",
      "RSS: 2732.8369524522823 TSS: 4273.866323907456\n",
      "0.36057032547668944\n",
      "--------------------------------------------------\n",
      "Iter is: 10000 Alpha is: 0.0049\n",
      "\n",
      "initial cost:  76.84704370179949 \n",
      "final cost:  3.5125538200732196\n",
      "RSS: 2732.766872016966 TSS: 4273.866323907456\n",
      "0.36058672290936633\n",
      "--------------------------------------------------\n",
      "Iter is: 10000 Alpha is: 0.005\n",
      "\n",
      "initial cost:  76.84704370179949 \n",
      "final cost:  3.5125538200732156\n",
      "RSS: 2732.7668720169618 TSS: 4273.866323907456\n",
      "0.36058672290936733\n",
      "--------------------------------------------------\n",
      "Iter is: 10000 Alpha is: 0.0001\n",
      "\n",
      "initial cost:  76.84704370179949 \n",
      "final cost:  13.141840598460227\n",
      "RSS: 10224.351985602061 TSS: 4273.866323907456\n",
      "-1.3922956898320282\n",
      "--------------------------------------------------\n",
      "Iter is: 10000 Alpha is: 0.0005\n",
      "\n",
      "initial cost:  76.84704370179949 \n",
      "final cost:  3.521005841147816\n",
      "RSS: 2739.3425444130003 TSS: 4273.866323907456\n",
      "0.3590481459166207\n",
      "--------------------------------------------------\n",
      "Iter is: 10000 Alpha is: 0.0001\n",
      "\n",
      "initial cost:  76.84704370179949 \n",
      "final cost:  13.141840598460227\n",
      "RSS: 10224.351985602061 TSS: 4273.866323907456\n",
      "-1.3922956898320282\n",
      "--------------------------------------------------\n",
      "**************************************************\n"
     ]
    }
   ],
   "source": [
    "#Testing numbers on training set\n",
    "learning_rate = [0.01, 0.05, 0.001, 0.0049, 0.005, 0.0001, 0.0005, 0.0001]\n",
    "num_iters = [10,100, 1000, 10000]\n",
    "track = {}\n",
    "best_rsq = 0\n",
    "for nums in num_iters:\n",
    "    print(\"*\"* 50)\n",
    "    print(nums)\n",
    "    for alpha in learning_rate:\n",
    "        results = multiple_linear_reg_model_gda(X_1_train, y_2d_train, alpha, n_train, nums)\n",
    "        print(\"Iter is:\", nums, \"Alpha is:\", alpha)\n",
    "        #print(\"w: \", results[0], \"\\ninitial cost: \", results[1], \"\\nfinal cost: \", results[2])\n",
    "        print(\"\\ninitial cost: \", results[1], \"\\nfinal cost: \", results[2])\n",
    "        #print('-'*50)\n",
    "        rss = 0\n",
    "        for i in range(n_train):\n",
    "            rss += np.sum((np.dot(results[0].T,X_1_train[i])-y_2d_train[i])**2)\n",
    "        tss = np.sum((y_2d_train-np.mean(y_2d_train))**2) # TSS \n",
    "        print(\"RSS:\",rss,\"TSS:\", tss)\n",
    "        rsq = 1 - (rss/tss)\n",
    "        print(rsq)\n",
    "        if best_rsq<rsq:\n",
    "            best_rsq = rsq\n",
    "            track = {(nums,alpha): results, \"RSS\": rss ,\"TSS\":tss, \"rsq\":rsq}\n",
    "        print('-'*50)\n",
    "    print(\"*\"* 50)"
   ]
  },
  {
   "cell_type": "code",
   "execution_count": 17,
   "metadata": {},
   "outputs": [
    {
     "name": "stdout",
     "output_type": "stream",
     "text": [
      "Best rsq based off the testing different iters and alpha:\n",
      "(10000, 0.05) :  (array([[ 1.18957988e+01],\n",
      "       [ 8.41007212e-01],\n",
      "       [ 4.74813086e-01],\n",
      "       [ 1.04232714e-01],\n",
      "       [ 1.97017058e-01],\n",
      "       [ 1.05178532e-01],\n",
      "       [ 8.65693482e-02],\n",
      "       [ 1.49071685e-01],\n",
      "       [ 3.94367397e-01],\n",
      "       [ 1.14263944e-01],\n",
      "       [ 3.19730549e-01],\n",
      "       [-7.06441850e-01],\n",
      "       [-4.37866433e-01],\n",
      "       [-3.04367264e-02],\n",
      "       [-1.84509504e-01],\n",
      "       [ 1.43885579e-01],\n",
      "       [ 4.56950025e-03],\n",
      "       [ 6.09471033e-01],\n",
      "       [-2.51096792e-02],\n",
      "       [-1.54719548e-01],\n",
      "       [-5.33886510e-02],\n",
      "       [-4.83830483e-03],\n",
      "       [-2.19034134e-01],\n",
      "       [-1.56082217e-02],\n",
      "       [-2.54728221e-01],\n",
      "       [-3.29201742e-01],\n",
      "       [-3.47699272e-01]]), 76.84704370179949, 3.512553820073213)\n",
      "RSS :  2732.766872016959\n",
      "TSS :  4273.866323907456\n",
      "rsq :  0.360586722909368\n"
     ]
    }
   ],
   "source": [
    "# The best rsq on training set based off gradient method\n",
    "print(\"Best rsq based off the testing different iters and alpha:\")\n",
    "for i in track.items():\n",
    "    print(i[0],\": \",i[1] )"
   ]
  },
  {
   "cell_type": "markdown",
   "metadata": {},
   "source": [
    "# Using sklearn library to calculate"
   ]
  },
  {
   "cell_type": "code",
   "execution_count": 18,
   "metadata": {},
   "outputs": [
    {
     "data": {
      "text/plain": [
       "LinearRegression()"
      ]
     },
     "execution_count": 18,
     "metadata": {},
     "output_type": "execute_result"
    }
   ],
   "source": [
    "#Creating our regression\n",
    "regr = linear_model.LinearRegression()\n",
    "regr.fit(X_train,y_train)"
   ]
  },
  {
   "cell_type": "code",
   "execution_count": 19,
   "metadata": {},
   "outputs": [
    {
     "name": "stdout",
     "output_type": "stream",
     "text": [
      "The intercept w0 =  [11.89579879]\n",
      "The coefficients w[1..d]= [[ 0.84100721  0.47481309  0.10423271  0.19701706  0.10517853  0.08656935\n",
      "   0.14907169  0.3943674   0.11426394  0.31973055 -0.70644185 -0.43786643\n",
      "  -0.03043673 -0.1845095   0.14388558  0.0045695   0.60947103 -0.02510968\n",
      "  -0.15471955 -0.05338865 -0.0048383  -0.21903413 -0.01560822 -0.25472822\n",
      "  -0.32920174 -0.34769927]]\n"
     ]
    }
   ],
   "source": [
    "print('The intercept w0 = ', regr.intercept_)\n",
    "print('The coefficients w[1..d]=', regr.coef_)"
   ]
  },
  {
   "cell_type": "code",
   "execution_count": 20,
   "metadata": {},
   "outputs": [
    {
     "name": "stdout",
     "output_type": "stream",
     "text": [
      "RSS = 2732.766872\n",
      "Ein = 7.025108\n",
      "RMSE = 2.650492\n",
      "R^2 = 0.360587\n"
     ]
    }
   ],
   "source": [
    "y_tr_pred = regr.predict(X_train)\n",
    "RSS = np.sum((y_tr_pred-y_train)**2)\n",
    "TSS = np.sum((y_train - np.mean(y_train))**2)\n",
    "print(\"RSS = {0:f}\".format(RSS))\n",
    "print(\"Ein = {0:f}\".format(RSS/y_train.shape[0]))\n",
    "print(\"RMSE = {0:f}\".format(np.sqrt(RSS/y_train.shape[0])))\n",
    "print(\"R^2 = {0:f}\".format(1-RSS/TSS))"
   ]
  },
  {
   "cell_type": "code",
   "execution_count": 21,
   "metadata": {},
   "outputs": [
    {
     "data": {
      "image/png": "[encoded data removed]",
      "text/plain": [
       "<Figure size 432x288 with 1 Axes>"
      ]
     },
     "metadata": {
      "needs_background": "light"
     },
     "output_type": "display_data"
    }
   ],
   "source": [
    "plt.scatter(y_train,y_tr_pred)\n",
    "#Set to 20, because maximum score for y is 20\n",
    "plt.plot([0, 20],[0, 20],'r')\n",
    "plt.xlabel('Actual')\n",
    "plt.ylabel('Predicted')\n",
    "plt.grid()"
   ]
  },
  {
   "cell_type": "markdown",
   "metadata": {},
   "source": [
    "# Validating over the testing set"
   ]
  },
  {
   "cell_type": "code",
   "execution_count": 22,
   "metadata": {},
   "outputs": [
    {
     "name": "stdout",
     "output_type": "stream",
     "text": [
      "RSS = 1855.638513\n",
      "Ein = 7.137071\n",
      "RMSE = 2.671530\n",
      "R^2 = 0.254118\n"
     ]
    }
   ],
   "source": [
    "y_test_pred = regr.predict(X_test)\n",
    "y_tr_pred = regr.predict(X_train)\n",
    "RSS = np.sum((y_test_pred-y_test)**2)\n",
    "TSS = np.sum((y_test - np.mean(y_test))**2)\n",
    "print(\"RSS = {0:f}\".format(RSS))\n",
    "print(\"Ein = {0:f}\".format(RSS/n_test))\n",
    "print(\"RMSE = {0:f}\".format(np.sqrt(RSS/n_test)))\n",
    "print(\"R^2 = {0:f}\".format(1-RSS/TSS))"
   ]
  },
  {
   "cell_type": "code",
   "execution_count": 23,
   "metadata": {},
   "outputs": [
    {
     "data": {
      "image/png": "[encoded data removed]",
      "text/plain": [
       "<Figure size 432x288 with 1 Axes>"
      ]
     },
     "metadata": {
      "needs_background": "light"
     },
     "output_type": "display_data"
    }
   ],
   "source": [
    "plt.scatter(y_test,y_test_pred)\n",
    "plt.plot([0,20],[0,20],'r')\n",
    "plt.xlabel('Actual')\n",
    "plt.xlabel('Predicted')\n",
    "plt.grid()"
   ]
  },
  {
   "cell_type": "markdown",
   "metadata": {},
   "source": [
    "# Multiple Linear regression with regularization "
   ]
  },
  {
   "cell_type": "code",
   "execution_count": 24,
   "metadata": {},
   "outputs": [],
   "source": [
    "def gradient_descent_ridge(X_1, y_2d, learning_rate, w, N, num_iters, lamda):\n",
    "    # Gradient descent on ridge regression\n",
    "    #Closed form solution = (X.T * X + N*lamda*Idenitiy).inverse (X.T*y)\n",
    "    identity = np.identity(w.shape[0])\n",
    "    identity[0,0] = 0\n",
    "    for i in range(num_iters): \n",
    "        first = np.linalg.inv(np.dot(X_1.T, X_1) + N*lamda*identity)\n",
    "        second = np.dot(X_1.T, y_2d)\n",
    "        ridge = np.dot(first,second)\n",
    "        w = ridge\n",
    "       \n",
    "        \n",
    "        if(i % 100 == 0):\n",
    "            # In place of ellipsis, call the cost you just coded above\n",
    "            cost = compute_cost(X_1, y_2d, w, N)\n",
    "            # You can uncomment print statements below to see how cost changes, \n",
    "            # but please make sure you put prints in comments before submission\n",
    "            #print(\"Cost\")\n",
    "            #print(cost)\n",
    "             \n",
    "    return w "
   ]
  },
  {
   "cell_type": "code",
   "execution_count": 25,
   "metadata": {},
   "outputs": [
    {
     "name": "stdout",
     "output_type": "stream",
     "text": [
      "[[ 1.19049781e+01]\n",
      " [ 7.32724014e-01]\n",
      " [ 4.25299232e-01]\n",
      " [ 6.60172381e-02]\n",
      " [ 1.91909249e-01]\n",
      " [ 9.34804280e-02]\n",
      " [ 7.55988939e-02]\n",
      " [ 1.87813736e-01]\n",
      " [ 3.46955207e-01]\n",
      " [ 7.85096018e-02]\n",
      " [ 3.20203894e-01]\n",
      " [-6.36822742e-01]\n",
      " [-3.90001369e-01]\n",
      " [-2.13002156e-02]\n",
      " [-1.72772438e-01]\n",
      " [ 1.42227626e-01]\n",
      " [ 8.07207941e-04]\n",
      " [ 5.67411616e-01]\n",
      " [-6.47778979e-03]\n",
      " [-1.33488994e-01]\n",
      " [-4.03460870e-02]\n",
      " [-3.19211641e-02]\n",
      " [-1.96170190e-01]\n",
      " [-6.12881279e-02]\n",
      " [-2.28450480e-01]\n",
      " [-2.98893661e-01]\n",
      " [-2.97907751e-01]]\n",
      "g[0]:  11.904978134607212\n"
     ]
    }
   ],
   "source": [
    "w_testcase = np.zeros((X_1_train.shape[1],1))\n",
    "g = gradient_descent_ridge(X_1_train, y_2d_train, 0.0049, w_testcase, n_train, 1000, 0.1)\n",
    "print(g)\n",
    "print(\"g[0]: \", g[0][0])"
   ]
  },
  {
   "cell_type": "markdown",
   "metadata": {},
   "source": [
    "# As shown above the values that we get with gradient is different from what sklearn gave us. The num_iters and alpha, should be contributing to this."
   ]
  },
  {
   "cell_type": "markdown",
   "metadata": {},
   "source": [
    "# Neutral Network\n",
    "## some of these code are taken from hw6 as I deemed them essential "
   ]
  },
  {
   "cell_type": "code",
   "execution_count": 26,
   "metadata": {},
   "outputs": [],
   "source": [
    "#Code copied from hw6, but edited to match our y values\n",
    "def convert_y_to_vect(y):\n",
    "    y_vect = np.zeros((len(y), 20))\n",
    "    for i in range(len(y)):\n",
    "        y_vect[i, y[i]] = 1\n",
    "    return y_vect"
   ]
  },
  {
   "cell_type": "code",
   "execution_count": 27,
   "metadata": {},
   "outputs": [
    {
     "name": "stdout",
     "output_type": "stream",
     "text": [
      "Testing training set shape:  (389, 20)\n",
      "Testing testing set shape:  (260, 20)\n"
     ]
    }
   ],
   "source": [
    "y_v_train = convert_y_to_vect(y_train)\n",
    "y_v_test = convert_y_to_vect(y_test)\n",
    "print(\"Testing training set shape: \",y_v_train.shape)\n",
    "print(\"Testing testing set shape: \",y_v_test.shape)"
   ]
  },
  {
   "cell_type": "code",
   "execution_count": 28,
   "metadata": {},
   "outputs": [],
   "source": [
    "# Sigmoid activation function - depends on whether we want to use it or not\n",
    "def f(z):\n",
    "    return 1 / (1 + np.exp(-z))\n",
    "\n",
    "\n",
    "def f_deriv(z):\n",
    "    return f(z) * (1 - f(z))"
   ]
  },
  {
   "cell_type": "code",
   "execution_count": 29,
   "metadata": {},
   "outputs": [],
   "source": [
    "def calculate_out_layer_delta(y, a_out, z_out):\n",
    "    # delta^(nl) = -(y_i - a_i^(nl)) * f'(z_i^(nl))\n",
    "    return -(y-a_out) * f_deriv(z_out) \n",
    "\n",
    "\n",
    "def calculate_hidden_delta(delta_plus_1, w_l, z_l):\n",
    "    # delta^(l) = (transpose(W^(l)) * delta^(l+1)) * f'(z^(l))\n",
    "    return np.dot(np.transpose(w_l), delta_plus_1) * f_deriv(z_l)"
   ]
  },
  {
   "cell_type": "code",
   "execution_count": null,
   "metadata": {},
   "outputs": [],
   "source": []
  },
  {
   "cell_type": "code",
   "execution_count": null,
   "metadata": {},
   "outputs": [],
   "source": []
  }
 ],
 "metadata": {
  "kernelspec": {
   "display_name": "Python 3",
   "language": "python",
   "name": "python3"
  },
  "language_info": {
   "codemirror_mode": {
    "name": "ipython",
    "version": 3
   },
   "file_extension": ".py",
   "mimetype": "text/x-python",
   "name": "python",
   "nbconvert_exporter": "python",
   "pygments_lexer": "ipython3",
   "version": "3.8.5"
  }
 },
 "nbformat": 4,
 "nbformat_minor": 4
}
